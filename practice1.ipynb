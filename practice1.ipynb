{
 "cells": [
  {
   "cell_type": "code",
   "execution_count": 3,
   "id": "a0401b79-54f1-42da-8f9a-01fae069d00f",
   "metadata": {},
   "outputs": [
    {
     "name": "stdout",
     "output_type": "stream",
     "text": [
      "****\n",
      " ****\n",
      "  ****\n",
      "   ****\n"
     ]
    }
   ],
   "source": [
    "for i in range(1,5):\n",
    "    for s in range(1,i):\n",
    "        print(\" \",end=\"\")\n",
    "    for j in range(1,5):\n",
    "        print('*',end='')\n",
    "    print()\n",
    "     "
   ]
  },
  {
   "cell_type": "code",
   "execution_count": 144,
   "id": "fded61b7-8b70-45ad-8827-1c81f081e185",
   "metadata": {},
   "outputs": [
    {
     "name": "stdout",
     "output_type": "stream",
     "text": [
      "******\n",
      "*    *\n",
      "*    *\n",
      "******\n"
     ]
    }
   ],
   "source": [
    "for i in range(1,8,2):\n",
    "    for j in range(1,7):\n",
    "        if i==1 or i==7 or j==1 or j==6:\n",
    "            print(\"*\",end=\"\")\n",
    "        else:\n",
    "            print(\" \",end=\"\")\n",
    "    print()\n",
    "    "
   ]
  },
  {
   "cell_type": "code",
   "execution_count": 152,
   "id": "9f2bc136-abca-49c9-82c2-898bb9dc1d22",
   "metadata": {},
   "outputs": [
    {
     "name": "stdout",
     "output_type": "stream",
     "text": [
      "A\n",
      "AB\n",
      "ABC\n",
      "ABCD\n",
      "ABCDE\n"
     ]
    }
   ],
   "source": [
    "\n",
    "for i in range(1,6):\n",
    "    x=65\n",
    "    for j in  range(i):\n",
    "        print(chr(x),end='')\n",
    "        x+=1\n",
    "    print()"
   ]
  },
  {
   "cell_type": "code",
   "execution_count": 154,
   "id": "97f620d7-89d2-43e0-8233-8c446a1b0bb5",
   "metadata": {},
   "outputs": [
    {
     "name": "stdout",
     "output_type": "stream",
     "text": [
      "A\n",
      "BC\n",
      "DEF\n",
      "GHIJ\n",
      "KLMNO\n"
     ]
    }
   ],
   "source": [
    "\n",
    "x=65\n",
    "for i in range(1,6):\n",
    "  \n",
    "    for j in  range(i):\n",
    "        print(chr(x),end='')\n",
    "        x+=1\n",
    "    print()"
   ]
  },
  {
   "cell_type": "code",
   "execution_count": 156,
   "id": "129a61d2-f497-446f-be52-3737c89dc27b",
   "metadata": {},
   "outputs": [
    {
     "name": "stdout",
     "output_type": "stream",
     "text": [
      "A\n",
      "BB\n",
      "CCC\n",
      "DDDD\n",
      "EEEEE\n"
     ]
    }
   ],
   "source": [
    "x=65\n",
    "for i in range(1,6):\n",
    "  \n",
    "    for j in  range(i):\n",
    "        print(chr(x),end='')\n",
    "    x+=1\n",
    "    print()"
   ]
  },
  {
   "cell_type": "code",
   "execution_count": 230,
   "id": "45965dce-1bd0-4c1e-8a6b-3bff54873a30",
   "metadata": {},
   "outputs": [
    {
     "name": "stdout",
     "output_type": "stream",
     "text": [
      "E \n",
      "D C \n",
      "B A @ \n",
      "? > = < \n",
      "; : 9 8 7 \n"
     ]
    }
   ],
   "source": [
    "# x=69\n",
    "# for i in range(1,6):\n",
    " \n",
    "\n",
    "#     for j in  range(i):\n",
    "#         print(chr(x),end=' ')\n",
    "#         x-=1\n",
    "#     print()"
   ]
  },
  {
   "cell_type": "code",
   "execution_count": 7,
   "id": "c909b55a-5de1-47b1-83b7-d2e248ce7ede",
   "metadata": {},
   "outputs": [
    {
     "name": "stdout",
     "output_type": "stream",
     "text": [
      "    *\n",
      "   **\n",
      "  ***\n",
      " ****\n",
      "*****\n"
     ]
    }
   ],
   "source": [
    "for i in range(1,6):\n",
    "    for s in range(5,i,-1):\n",
    "        print(' ',end='')\n",
    "    for j in range(i):\n",
    "        print('*',end='')\n",
    "    print()"
   ]
  },
  {
   "cell_type": "code",
   "execution_count": 11,
   "id": "13f03caf-c941-4e38-9876-7568019d25f1",
   "metadata": {},
   "outputs": [
    {
     "name": "stdout",
     "output_type": "stream",
     "text": [
      "    1\n",
      "   12\n",
      "  123\n",
      " 1234\n",
      "12345\n"
     ]
    }
   ],
   "source": [
    "for i in range(1,6):\n",
    "    for s in range(5,i,-1):\n",
    "        print(' ',end='')\n",
    "    for j in range(i):\n",
    "        print(j+1,end='')\n",
    "    print()"
   ]
  },
  {
   "cell_type": "code",
   "execution_count": 7,
   "id": "7839ebfc-6e37-41f7-ab0c-dab3a4dddef9",
   "metadata": {},
   "outputs": [
    {
     "data": {
      "text/plain": [
       "39"
      ]
     },
     "execution_count": 7,
     "metadata": {},
     "output_type": "execute_result"
    }
   ],
   "source": [
    "my=[10,[39,90],90,99]\n",
    "my[1][0]"
   ]
  },
  {
   "cell_type": "code",
   "execution_count": 192,
   "id": "db607280-0ea1-4b28-b898-535ac4312fa4",
   "metadata": {},
   "outputs": [
    {
     "name": "stdout",
     "output_type": "stream",
     "text": [
      "[0, 1, 0]\n",
      "[0, 1, 1, 0]\n",
      "[0, 1, 2, 1, 0]\n",
      "[0, 1, 3, 3, 1, 0]\n"
     ]
    },
    {
     "data": {
      "text/plain": [
       "[[1], [1, 1], [1, 2, 1], [1, 3, 3, 1], [1, 4, 6, 4, 1]]"
      ]
     },
     "execution_count": 192,
     "metadata": {},
     "output_type": "execute_result"
    }
   ],
   "source": [
    "mylist=[[1]]\n",
    "n=5\n",
    "#[0]+mylist[-1]+[0]\n",
    "for i in range(0,n-1):\n",
    "    temp=[0]+mylist[-1]+[0]\n",
    "    print(temp)\n",
    "    new=[]\n",
    "    #[0,10,0] , mylist=1\n",
    "    for j in range(0,len(mylist)+1):\n",
    "        new.append(temp[j]+temp[j+1])\n",
    "    mylist.append(new)\n",
    "mylist\n",
    "        \n",
    "        \n",
    "        # x=(temp[j]+temp[j+1])\n",
    "        # print(x)\n",
    "        \n",
    "    \n",
    "\n"
   ]
  },
  {
   "cell_type": "code",
   "execution_count": null,
   "id": "b5ea34f8-0faf-48a2-925e-b0d2074c5438",
   "metadata": {},
   "outputs": [],
   "source": [
    "li=[[1]]\n",
    "empty=[]\n",
    "for i in range(o,len(li)):\n",
    "   \n",
    "    for j in  range(0,i+1):\n",
    "        if li[i]==j[i]\n",
    "        \n",
    "        "
   ]
  },
  {
   "cell_type": "code",
   "execution_count": 46,
   "id": "d9e3496d-e402-4fea-a119-dcb3205120f4",
   "metadata": {},
   "outputs": [
    {
     "name": "stdout",
     "output_type": "stream",
     "text": [
      "True\n"
     ]
    }
   ],
   "source": [
    "s='egg'\n",
    "t='add'\n",
    "m1=[]\n",
    "m2=[]\n",
    "for i in s:\n",
    "    m1.append(s.index(i))\n",
    "for j in t:\n",
    "    m2.append(t.index(j))\n",
    "if m1==m2:\n",
    "        print(True)\n",
    "else:\n",
    "        print(False)"
   ]
  },
  {
   "cell_type": "code",
   "execution_count": 44,
   "id": "6df0f02e-5e85-490f-ab4f-9f86c0180b39",
   "metadata": {},
   "outputs": [
    {
     "name": "stdout",
     "output_type": "stream",
     "text": [
      "False\n"
     ]
    }
   ],
   "source": [
    "pattern = \"abba\" \n",
    "s = \"dog cat cat qwog\"\n",
    "s=s.split()\n",
    "d1=[]\n",
    "d2=[]\n",
    "for i in pattern:\n",
    "    d1.append(pattern.index(i))\n",
    "for j in s:\n",
    "    d2.append(s.index(j))\n",
    "if d1==d2:\n",
    "    print(True)\n",
    "else:\n",
    "    print(False)  \n",
    "        \n",
    "    "
   ]
  },
  {
   "cell_type": "code",
   "execution_count": 58,
   "id": "b4d59f92-aa4b-4fdb-9632-36ebf5dbcfd8",
   "metadata": {},
   "outputs": [],
   "source": [
    "# two sum pgm\n",
    "for i in range(len(nums)):\n",
    "\n",
    "    for j in  range(i+1,len(nums)):\n",
    "            if nums[i]+nums[j]==target:\n",
    "    return i,j\n",
    "\n",
    "\n",
    "\n",
    "\n",
    "    \n",
    "    "
   ]
  },
  {
   "cell_type": "code",
   "execution_count": 40,
   "id": "b8786749-0602-4e7e-888d-8dc14a4549e6",
   "metadata": {},
   "outputs": [
    {
     "name": "stdout",
     "output_type": "stream",
     "text": [
      "False\n",
      "False\n",
      "False\n"
     ]
    }
   ],
   "source": [
    "nums = [1,2,3,1]\n",
    "for i in range(0,len(nums)):\n",
    "    for j in range(i+1,len(nums)-1):\n",
    "        if nums[i]==nums[j]:\n",
    "            print(True)\n",
    "        elif nums[i]!=nums[j]:\n",
    "            print(False) \n",
    "            \n",
    "            \n",
    "         \n",
    "        \n",
    "    "
   ]
  },
  {
   "cell_type": "code",
   "execution_count": null,
   "id": "8143d9f5-53b9-4ab5-bfb7-e4e3746e63b9",
   "metadata": {},
   "outputs": [],
   "source": []
  },
  {
   "cell_type": "code",
   "execution_count": null,
   "id": "14411fb5-c303-473c-bf5a-d530cfa485e9",
   "metadata": {},
   "outputs": [],
   "source": []
  }
 ],
 "metadata": {
  "kernelspec": {
   "display_name": "Python 3 (ipykernel)",
   "language": "python",
   "name": "python3"
  },
  "language_info": {
   "codemirror_mode": {
    "name": "ipython",
    "version": 3
   },
   "file_extension": ".py",
   "mimetype": "text/x-python",
   "name": "python",
   "nbconvert_exporter": "python",
   "pygments_lexer": "ipython3",
   "version": "3.12.4"
  }
 },
 "nbformat": 4,
 "nbformat_minor": 5
}
