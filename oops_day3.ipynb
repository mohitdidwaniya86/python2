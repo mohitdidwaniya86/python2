{
 "cells": [
  {
   "cell_type": "code",
   "execution_count": 1,
   "id": "e7d73a1c-f2bd-4454-8b0e-ca20e3247f3a",
   "metadata": {},
   "outputs": [
    {
     "name": "stdout",
     "output_type": "stream",
     "text": [
      "secret\n"
     ]
    }
   ],
   "source": [
    "class example:\n",
    "    def __init__(self):\n",
    "        self.__private= 'secret'\n",
    "obj= example()\n",
    "print(obj._example__private)  # acces private attributes using name mangling"
   ]
  },
  {
   "cell_type": "code",
   "execution_count": 19,
   "id": "f540f94e-c38f-4cb9-9cf0-12619a9b7d3d",
   "metadata": {},
   "outputs": [
    {
     "name": "stdout",
     "output_type": "stream",
     "text": [
      "mohit264\n"
     ]
    }
   ],
   "source": [
    "class ex:\n",
    "    def __init__(self):\n",
    "        self.__private = 'mohit264'\n",
    "obj=ex()\n",
    "print(obj._ex__private)\n"
   ]
  },
  {
   "cell_type": "code",
   "execution_count": 21,
   "id": "eebc7358-f071-4da3-8867-13084b385a3a",
   "metadata": {},
   "outputs": [
    {
     "name": "stdout",
     "output_type": "stream",
     "text": [
      "ram\n",
      "85\n",
      "grade update successfully!\n",
      "90\n",
      "Invalid grade! must be between 0 and 100.\n"
     ]
    }
   ],
   "source": [
    "class student:\n",
    "    def __init__(self,name ,grade):\n",
    "        self.name = name\n",
    "        self.__grade= grade\n",
    "    #getter for grade\n",
    "    def get_grade(self):\n",
    "        return self.__grade\n",
    "    #setter for grade (with validation)\n",
    "    def set_grade(self,new_grade):\n",
    "        if 0<= new_grade <=100:\n",
    "            self.__grade = new_grade\n",
    "            return 'grade update successfully!'\n",
    "        else:\n",
    "            return 'Invalid grade! must be between 0 and 100.'\n",
    "student = student('ram',85)\n",
    "print(student.name)\n",
    "print(student.get_grade())\n",
    "print(student.set_grade(90))\n",
    "print(student.get_grade())\n",
    "print(student.set_grade(150))"
   ]
  },
  {
   "cell_type": "code",
   "execution_count": 51,
   "id": "615f7e94-dd46-469f-8c54-1e6e5ff8a0ae",
   "metadata": {},
   "outputs": [
    {
     "name": "stdout",
     "output_type": "stream",
     "text": [
      " money is credited in account! total balance: 2500\n",
      " money is debited from account! and available balance is : 1500\n",
      " balance in account is :1500\n"
     ]
    }
   ],
   "source": [
    "class BankAccount:\n",
    "    def __init__(self, name, balance):\n",
    "        self.__name = name\n",
    "        self.__balance = balance\n",
    "    def credit(self,money):\n",
    "        self.__balance += money\n",
    "        return f\" money is credited in account! total balance: {self.__balance}\"\n",
    "    def debit (self,money):\n",
    "        if self.__balance >= money:\n",
    "            self.__balance -= money\n",
    "            return f\" money is debited from account! and available balance is : {self.__balance}\"\n",
    "    def chek_balance(self):\n",
    "        return f\" balance in account is :{self.__balance}\"\n",
    "bank = BankAccount('mohit',2000)\n",
    "print(bank.credit(500))\n",
    "print(bank.debit(1000))\n",
    "print(bank.chek_balance())\n",
    "    \n",
    "        \n",
    "        "
   ]
  },
  {
   "cell_type": "code",
   "execution_count": null,
   "id": "8391226c-420e-4b32-86c4-7199da2fe3bb",
   "metadata": {},
   "outputs": [],
   "source": []
  }
 ],
 "metadata": {
  "kernelspec": {
   "display_name": "Python 3 (ipykernel)",
   "language": "python",
   "name": "python3"
  },
  "language_info": {
   "codemirror_mode": {
    "name": "ipython",
    "version": 3
   },
   "file_extension": ".py",
   "mimetype": "text/x-python",
   "name": "python",
   "nbconvert_exporter": "python",
   "pygments_lexer": "ipython3",
   "version": "3.12.4"
  }
 },
 "nbformat": 4,
 "nbformat_minor": 5
}
