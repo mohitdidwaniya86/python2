{
 "cells": [
  {
   "cell_type": "code",
   "execution_count": 1,
   "id": "9e6fcaa5-d343-45e1-ae5d-1cd80a42654c",
   "metadata": {},
   "outputs": [],
   "source": [
    "#collection=> \n",
    "#module > package> functionality\n",
    "#counter\n"
   ]
  },
  {
   "cell_type": "code",
   "execution_count": 1,
   "id": "033473b1-1e52-4994-b2cc-1ec5075f0af7",
   "metadata": {},
   "outputs": [
    {
     "data": {
      "text/plain": [
       "Counter()"
      ]
     },
     "execution_count": 1,
     "metadata": {},
     "output_type": "execute_result"
    }
   ],
   "source": [
    "import collections as c\n",
    "c.Counter()\n"
   ]
  },
  {
   "cell_type": "code",
   "execution_count": 37,
   "id": "3f3b2c2d-6f1a-450b-9a4a-0033694fb14a",
   "metadata": {},
   "outputs": [
    {
     "data": {
      "text/plain": [
       "Counter()"
      ]
     },
     "execution_count": 37,
     "metadata": {},
     "output_type": "execute_result"
    }
   ],
   "source": [
    "from collections import Counter\n",
    "Counter()\n"
   ]
  },
  {
   "cell_type": "code",
   "execution_count": 49,
   "id": "685d8b07-05f3-411f-99c6-7a66a8af1043",
   "metadata": {},
   "outputs": [
    {
     "data": {
      "text/plain": [
       "Counter({'y': 99, 'x': 9})"
      ]
     },
     "execution_count": 49,
     "metadata": {},
     "output_type": "execute_result"
    }
   ],
   "source": [
    "my=[10,10,10,34,56,77,19]\n",
    "a=Counter(my)\n",
    "a\n",
    "a.update([57,48])\n",
    "a\n",
    "Counter(x=9,y=99)\n",
    "\n"
   ]
  },
  {
   "cell_type": "code",
   "execution_count": 41,
   "id": "3a33bb08-7bb4-4438-a6a1-f697c5cd5826",
   "metadata": {},
   "outputs": [
    {
     "data": {
      "text/plain": [
       "[10, 10, 10, 34, 56, 77, 19]"
      ]
     },
     "execution_count": 41,
     "metadata": {},
     "output_type": "execute_result"
    }
   ],
   "source": [
    "list(a.elements())\n",
    "\n"
   ]
  },
  {
   "cell_type": "code",
   "execution_count": 53,
   "id": "3676d6ed-5fbc-4151-abab-f280b630940f",
   "metadata": {},
   "outputs": [
    {
     "name": "stdout",
     "output_type": "stream",
     "text": [
      "dict_items([('a', 10), ('b', 'not a value')])\n"
     ]
    }
   ],
   "source": [
    "from collections import defaultdict\n",
    "def func():\n",
    "    return 'not a value'\n",
    "d=defaultdict(func)\n",
    "d['a']=10\n",
    "d['b']\n",
    "print(d.items())\n"
   ]
  },
  {
   "cell_type": "code",
   "execution_count": 67,
   "id": "3e145ea4-0463-40a2-8559-ff9813b12bbc",
   "metadata": {},
   "outputs": [
    {
     "name": "stdout",
     "output_type": "stream",
     "text": [
      "10 tushar\n",
      "20 mohit\n",
      "30 abc\n",
      "[]\n",
      "defaultdict(<class 'list'>, {10: ['tushar'], 20: ['mohit'], 30: ['abc'], 50: []})\n"
     ]
    }
   ],
   "source": [
    "mylist=[(10,'tushar'),(20,'mohit'),(30,'abc')]\n",
    "s=defaultdict(list)\n",
    "for roll ,name in mylist:\n",
    "    \n",
    "    print(roll,name)\n",
    "    s[roll].append(name)\n",
    "s\n",
    "print(s[50]) #if value is not give then it is  give empty list\n",
    "print(s)\n",
    "                       "
   ]
  },
  {
   "cell_type": "code",
   "execution_count": 81,
   "id": "ea38f562-6c6f-4890-9b19-8f6efd221dc1",
   "metadata": {},
   "outputs": [
    {
     "data": {
      "text/plain": [
       "OrderedDict([('b', 32), ('a', 1), ('aa', 223)])"
      ]
     },
     "execution_count": 81,
     "metadata": {},
     "output_type": "execute_result"
    }
   ],
   "source": [
    "from collections import OrderedDict\n",
    "o=OrderedDict()\n",
    "o['a']=1\n",
    "o['b']=32\n",
    "o['aa']=223\n",
    "o.move_to_end('b',last=False)\n",
    "o"
   ]
  },
  {
   "cell_type": "code",
   "execution_count": 89,
   "id": "037f24b1-12ee-4115-8e67-832ee6087128",
   "metadata": {},
   "outputs": [
    {
     "name": "stdout",
     "output_type": "stream",
     "text": [
      "11\n",
      "11\n"
     ]
    }
   ],
   "source": [
    "#namedTuple\n",
    "from collections import namedtuple\n",
    "Point123=namedtuple('point',['x','y'])\n",
    "P=Point123(11,22)\n",
    "\n",
    "print(P.x)\n",
    "print(P[0])\n",
    "\n"
   ]
  },
  {
   "cell_type": "code",
   "execution_count": 93,
   "id": "7ba40ecb-2d19-4227-9488-1b4c4c552b9e",
   "metadata": {},
   "outputs": [
    {
     "data": {
      "text/plain": [
       "{'x': 11, 'y': 22}"
      ]
     },
     "execution_count": 93,
     "metadata": {},
     "output_type": "execute_result"
    }
   ],
   "source": [
    "P._asdict()"
   ]
  },
  {
   "cell_type": "code",
   "execution_count": 105,
   "id": "a393b109-57e9-43a6-8909-b3039cde7440",
   "metadata": {},
   "outputs": [
    {
     "data": {
      "text/plain": [
       "point(x=122, y=22)"
      ]
     },
     "execution_count": 105,
     "metadata": {},
     "output_type": "execute_result"
    }
   ],
   "source": [
    "P=P._replace(x=122)\n",
    "P"
   ]
  },
  {
   "cell_type": "code",
   "execution_count": 107,
   "id": "87b7e749-e7b8-4401-8057-a7422eab9d2b",
   "metadata": {},
   "outputs": [],
   "source": [
    "#deque \n",
    "#list => stack"
   ]
  },
  {
   "cell_type": "code",
   "execution_count": 109,
   "id": "710a1a09-885b-4f81-b8ae-12a506323c00",
   "metadata": {},
   "outputs": [],
   "source": [
    "from collections import deque\n"
   ]
  },
  {
   "cell_type": "code",
   "execution_count": 113,
   "id": "5c4570c9-3588-4d22-844f-814ba5b54f61",
   "metadata": {},
   "outputs": [
    {
     "data": {
      "text/plain": [
       "deque(['mohit', 'abs', 'dd', 78])"
      ]
     },
     "execution_count": 113,
     "metadata": {},
     "output_type": "execute_result"
    }
   ],
   "source": [
    "dq=deque(['mohit','abs','dd',78])\n",
    "dq\n"
   ]
  },
  {
   "cell_type": "code",
   "execution_count": 119,
   "id": "deb7c40d-e222-4ce1-89d5-8068dd46e68a",
   "metadata": {},
   "outputs": [
    {
     "data": {
      "text/plain": [
       "deque(['mohit', 'abs', 'dd', 78, 67, 67])"
      ]
     },
     "execution_count": 119,
     "metadata": {},
     "output_type": "execute_result"
    }
   ],
   "source": [
    "dq.append(67)\n",
    "dq"
   ]
  },
  {
   "cell_type": "code",
   "execution_count": 123,
   "id": "1a3fdd18-66fa-43ef-a2f1-1e00a5bf286e",
   "metadata": {},
   "outputs": [
    {
     "data": {
      "text/plain": [
       "deque([788, 788, 'mohit', 'abs', 'dd', 78, 67, 67])"
      ]
     },
     "execution_count": 123,
     "metadata": {},
     "output_type": "execute_result"
    }
   ],
   "source": [
    "dq.appendleft(788)\n",
    "dq"
   ]
  },
  {
   "cell_type": "code",
   "execution_count": 139,
   "id": "121ad916-56b9-4ec8-837f-c894e16fa2c8",
   "metadata": {},
   "outputs": [
    {
     "name": "stdout",
     "output_type": "stream",
     "text": [
      "[2]\n"
     ]
    }
   ],
   "source": [
    "nums1 = [1,2,2,1]\n",
    "nums2 = [2,2]\n",
    "nums1.sort()\n",
    "nums2.sort()\n",
    "empty=[]\n",
    "for i in nums1:\n",
    "    for j in nums2:\n",
    "        if i==j:\n",
    "            empty.append(i)\n",
    "s=set(empty)\n",
    "l=list(s)\n",
    "print(l)\n",
    "\n",
    "        \n"
   ]
  },
  {
   "cell_type": "code",
   "execution_count": 153,
   "id": "2b941287-df3a-4111-bf9e-be19f92237b4",
   "metadata": {},
   "outputs": [
    {
     "data": {
      "text/plain": [
       "[1, 2, 2, 3, 5, 6]"
      ]
     },
     "execution_count": 153,
     "metadata": {},
     "output_type": "execute_result"
    }
   ],
   "source": [
    "nums1=[1,2,3,0,0,0]\n",
    "nums2=[2,5,6]\n",
    "m=3\n",
    "n=3\n",
    "li=[]\n",
    "for i in range(m):\n",
    "    li.append(nums1[i])\n",
    "for j in range(n):\n",
    "    li.append(nums2[j])\n",
    "li.sort()\n",
    "li\n",
    "\n",
    "        "
   ]
  },
  {
   "cell_type": "code",
   "execution_count": null,
   "id": "109256b1-13e2-4ae4-a61f-59fa04f5e839",
   "metadata": {},
   "outputs": [],
   "source": [
    "nums1=[1,2,3,0,0,0]\n",
    "nums2=[2,5,6]\n"
   ]
  }
 ],
 "metadata": {
  "kernelspec": {
   "display_name": "Python 3 (ipykernel)",
   "language": "python",
   "name": "python3"
  },
  "language_info": {
   "codemirror_mode": {
    "name": "ipython",
    "version": 3
   },
   "file_extension": ".py",
   "mimetype": "text/x-python",
   "name": "python",
   "nbconvert_exporter": "python",
   "pygments_lexer": "ipython3",
   "version": "3.12.4"
  }
 },
 "nbformat": 4,
 "nbformat_minor": 5
}
