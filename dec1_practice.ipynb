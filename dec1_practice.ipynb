{
 "cells": [
  {
   "cell_type": "code",
   "execution_count": 9,
   "id": "1509b5a8-d8ac-448b-96ca-aedafb71a52a",
   "metadata": {},
   "outputs": [
    {
     "name": "stdout",
     "output_type": "stream",
     "text": [
      "*\n",
      "**\n",
      "***\n"
     ]
    }
   ],
   "source": [
    "for i in range(1,4):\n",
    "    for j in range(i):\n",
    "        print('*',end='')\n",
    "    print()\n",
    "\n"
   ]
  },
  {
   "cell_type": "code",
   "execution_count": 13,
   "id": "208f030b-7d6b-44cb-87c4-6935757250c8",
   "metadata": {},
   "outputs": [
    {
     "name": "stdout",
     "output_type": "stream",
     "text": [
      "***\n",
      "**\n",
      "*\n"
     ]
    }
   ],
   "source": [
    "for i in range(3,0,-1):\n",
    "    for j in range(i):\n",
    "        print('*',end ='')\n",
    "    print()"
   ]
  },
  {
   "cell_type": "code",
   "execution_count": 45,
   "id": "c35d15dd-40c2-42c3-9651-fff3e87cae77",
   "metadata": {},
   "outputs": [
    {
     "name": "stdout",
     "output_type": "stream",
     "text": [
      "  *\n",
      " **\n",
      "***\n"
     ]
    }
   ],
   "source": [
    "for i in range(1,4):\n",
    "    for s in range(3,i,-1):\n",
    "        print(' ',end='')\n",
    "    for j in range(i):\n",
    "        print('*',end='')\n",
    "    print()"
   ]
  },
  {
   "cell_type": "code",
   "execution_count": 57,
   "id": "0e9f21ed-e804-4b53-819e-84d1ff299cbd",
   "metadata": {},
   "outputs": [
    {
     "name": "stdout",
     "output_type": "stream",
     "text": [
      "***\n",
      " **\n",
      "  *\n"
     ]
    }
   ],
   "source": [
    "for i in range(3,0,-1):\n",
    "    for s in range(3,i,-1):\n",
    "        print(' ',end='')\n",
    "    for j in range(i):\n",
    "        print('*',end='')\n",
    "    print()"
   ]
  },
  {
   "cell_type": "code",
   "execution_count": 77,
   "id": "09a87ab2-f752-4a86-af9b-fb718bdef045",
   "metadata": {},
   "outputs": [
    {
     "name": "stdout",
     "output_type": "stream",
     "text": [
      "   ****\n",
      "  ****\n",
      " ****\n",
      "****\n"
     ]
    }
   ],
   "source": [
    "for i in range(1,5):\n",
    "    for s in range(4,i,-1):\n",
    "        print(' ',end='')\n",
    "    for j in range(1,5):\n",
    "        print('*',end='')\n",
    "    print()"
   ]
  },
  {
   "cell_type": "code",
   "execution_count": 81,
   "id": "1242807c-3a3e-4016-99d2-dffe423b4a3f",
   "metadata": {},
   "outputs": [
    {
     "name": "stdout",
     "output_type": "stream",
     "text": [
      "****\n",
      " ****\n",
      "  ****\n",
      "   ****\n"
     ]
    }
   ],
   "source": [
    "for i in range(4,0,-1):\n",
    "    for s in range(4,i,-1):\n",
    "        print(' ',end='')\n",
    "    for j in range(1,5):\n",
    "        print('*',end='')\n",
    "    print()"
   ]
  },
  {
   "cell_type": "code",
   "execution_count": 113,
   "id": "cab57fe4-0c3f-4697-b2f0-7c98c9bc80b1",
   "metadata": {},
   "outputs": [
    {
     "name": "stdout",
     "output_type": "stream",
     "text": [
      "    * \n",
      "   * * \n",
      "  * * * \n",
      " * * * * \n",
      "* * * * * \n"
     ]
    }
   ],
   "source": [
    "for i in range(1,6):\n",
    "    for s in range(5,i,-1):\n",
    "        print(' ',end='')\n",
    "    for j in range(i):\n",
    "        print('* ',end='')\n",
    "    print()"
   ]
  },
  {
   "cell_type": "code",
   "execution_count": 109,
   "id": "7226b601-9f85-445a-b87a-b296b64da34f",
   "metadata": {},
   "outputs": [
    {
     "name": "stdout",
     "output_type": "stream",
     "text": [
      "     *\n",
      "   * * *\n",
      " * * * * *\n"
     ]
    }
   ],
   "source": [
    "for i in range(1,6,2):\n",
    "    for s in range(5,i,-1):\n",
    "        print(' ',end='')\n",
    "    for j in range(i):\n",
    "        print(' *',end='')\n",
    "    print()"
   ]
  },
  {
   "cell_type": "code",
   "execution_count": 127,
   "id": "34512432-1d15-43bc-933d-8101cdb0459a",
   "metadata": {},
   "outputs": [
    {
     "name": "stdout",
     "output_type": "stream",
     "text": [
      "* * * * \n",
      " * * * \n",
      "  * * \n",
      "   * \n"
     ]
    }
   ],
   "source": [
    "for i in range(4,0,-1):\n",
    "    for s in range(4,i,-1):\n",
    "        print(' ',end='')\n",
    "    for j in range(i):\n",
    "        print('* ',end='')\n",
    "    print()"
   ]
  },
  {
   "cell_type": "code",
   "execution_count": 125,
   "id": "47f3076a-7910-4349-a4c9-84bc0bd51d0c",
   "metadata": {},
   "outputs": [
    {
     "name": "stdout",
     "output_type": "stream",
     "text": [
      "* * * * * \n",
      "  * * * \n",
      "    * \n"
     ]
    }
   ],
   "source": [
    " for i in range(5,0,-2):\n",
    "    for s in range(5,i,-1):\n",
    "        print(' ',end='')\n",
    "    for j in range(i):\n",
    "        print('* ',end='')\n",
    "    print()"
   ]
  },
  {
   "cell_type": "code",
   "execution_count": 43,
   "id": "4aab052f-7b99-450b-b00a-92d9ac7d6467",
   "metadata": {},
   "outputs": [
    {
     "name": "stdout",
     "output_type": "stream",
     "text": [
      "A\n",
      "AB\n",
      "ABC\n",
      "ABCD\n",
      "ABCDE\n"
     ]
    }
   ],
   "source": [
    "\n",
    "for i in range(1,6):\n",
    "    x=65\n",
    "    for j in range(i):\n",
    "        print(chr(x),end='')\n",
    "        x+=1\n",
    "    print()"
   ]
  },
  {
   "cell_type": "code",
   "execution_count": 21,
   "id": "9a823f97-b464-4716-8008-f3be2d781406",
   "metadata": {},
   "outputs": [
    {
     "name": "stdout",
     "output_type": "stream",
     "text": [
      "A\n",
      "BB\n",
      "CCC\n",
      "DDDD\n",
      "EEEEE\n"
     ]
    }
   ],
   "source": [
    "x=65\n",
    "for i in range(1,6):\n",
    "   \n",
    "    for j in range(i):\n",
    "        print(chr(x),end='')\n",
    "    x+=1\n",
    "    print()"
   ]
  },
  {
   "cell_type": "code",
   "execution_count": 37,
   "id": "13b292ec-6971-42ab-b7d5-1c42318ee92e",
   "metadata": {},
   "outputs": [
    {
     "name": "stdout",
     "output_type": "stream",
     "text": [
      "A\n",
      "BC\n",
      "DEF\n",
      "GHIJ\n",
      "KLMNO\n"
     ]
    }
   ],
   "source": [
    "\n",
    "x=65\n",
    "for i in range(1,6):\n",
    "   \n",
    "    for j in range(i):\n",
    "        print(chr(x),end='')\n",
    "        x+=1\n",
    "    print()"
   ]
  },
  {
   "cell_type": "code",
   "execution_count": 33,
   "id": "79511843-1d06-45ed-ba15-ed97937e1dd7",
   "metadata": {},
   "outputs": [
    {
     "name": "stdout",
     "output_type": "stream",
     "text": [
      "A\n",
      "AA\n",
      "AAA\n",
      "AAAA\n",
      "AAAAA\n"
     ]
    }
   ],
   "source": [
    "for i in range(1,6):\n",
    "    x=65\n",
    "    for j in range(i):\n",
    "        print(chr(x),end='')\n",
    "    \n",
    "    print()"
   ]
  },
  {
   "cell_type": "code",
   "execution_count": 51,
   "id": "edd8074e-57c9-495a-90ab-a84bd535e46e",
   "metadata": {},
   "outputs": [
    {
     "name": "stdout",
     "output_type": "stream",
     "text": [
      "M \n",
      "M M \n",
      "M M M \n",
      "M M M M \n",
      "M M M M M \n"
     ]
    }
   ],
   "source": [
    "x=77\n",
    "for i in range(1,6):\n",
    "   \n",
    "    for j in range(i):\n",
    "        print(chr(x),end=' ')\n",
    "    \n",
    "    print()"
   ]
  },
  {
   "cell_type": "code",
   "execution_count": null,
   "id": "6255863f-4aa4-4e45-9c3a-692315a914fb",
   "metadata": {},
   "outputs": [],
   "source": []
  }
 ],
 "metadata": {
  "kernelspec": {
   "display_name": "Python 3 (ipykernel)",
   "language": "python",
   "name": "python3"
  },
  "language_info": {
   "codemirror_mode": {
    "name": "ipython",
    "version": 3
   },
   "file_extension": ".py",
   "mimetype": "text/x-python",
   "name": "python",
   "nbconvert_exporter": "python",
   "pygments_lexer": "ipython3",
   "version": "3.12.4"
  }
 },
 "nbformat": 4,
 "nbformat_minor": 5
}
