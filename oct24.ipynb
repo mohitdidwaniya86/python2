{
 "cells": [
  {
   "cell_type": "code",
   "execution_count": 42,
   "id": "869449fd-5adc-4149-a0c5-c8ec8cd8dd10",
   "metadata": {},
   "outputs": [
    {
     "name": "stdout",
     "output_type": "stream",
     "text": [
      "monotonic\n"
     ]
    }
   ],
   "source": [
    "x=0\n",
    "list1=[12,11,9,8]\n",
    "for i in range(1,len(list1)):\n",
    "    if(list1[i] > list1[i-1]):\n",
    "        x=1\n",
    "        break\n",
    "        \n",
    "if(x==1):\n",
    "        print('not monotonic')\n",
    "elif(list1[i]< list1[i-1]):\n",
    "    print('monotonic')\n",
    "    \n",
    "    \n",
    "    \n",
    "    \n",
    "    \n"
   ]
  },
  {
   "cell_type": "code",
   "execution_count": 3,
   "id": "44fec8f0-3e49-4982-b431-1c43e4d772ef",
   "metadata": {},
   "outputs": [
    {
     "ename": "TypeError",
     "evalue": "'type' object is not iterable",
     "output_type": "error",
     "traceback": [
      "\u001b[1;31m---------------------------------------------------------------------------\u001b[0m",
      "\u001b[1;31mTypeError\u001b[0m                                 Traceback (most recent call last)",
      "Cell \u001b[1;32mIn[3], line 3\u001b[0m\n\u001b[0;32m      1\u001b[0m \u001b[38;5;66;03m#disarium number:\u001b[39;00m\n\u001b[0;32m      2\u001b[0m num\u001b[38;5;241m=\u001b[39m\u001b[38;5;241m89\u001b[39m\n\u001b[1;32m----> 3\u001b[0m \u001b[38;5;28;01mfor\u001b[39;00m i \u001b[38;5;129;01min\u001b[39;00m \u001b[38;5;28mrange\u001b[39m:\n\u001b[0;32m      4\u001b[0m     rem\u001b[38;5;241m=\u001b[39mnum\u001b[38;5;241m%\u001b[39m\u001b[38;5;241m10\u001b[39m\n\u001b[0;32m      5\u001b[0m     rem\u001b[38;5;241m=\u001b[39mrem\u001b[38;5;241m*\u001b[39mrem\n",
      "\u001b[1;31mTypeError\u001b[0m: 'type' object is not iterable"
     ]
    }
   ],
   "source": [
    "#disarium number:\n",
    "num=89\n",
    "for i in range:\n",
    "    rem=num%10\n",
    "    rem=rem*rem\n",
    "    num=num//10\n",
    "    print(rem)\n"
   ]
  },
  {
   "cell_type": "code",
   "execution_count": null,
   "id": "f6dfa96f-a833-4ddd-b37e-827032a67daa",
   "metadata": {},
   "outputs": [],
   "source": []
  }
 ],
 "metadata": {
  "kernelspec": {
   "display_name": "Python 3 (ipykernel)",
   "language": "python",
   "name": "python3"
  },
  "language_info": {
   "codemirror_mode": {
    "name": "ipython",
    "version": 3
   },
   "file_extension": ".py",
   "mimetype": "text/x-python",
   "name": "python",
   "nbconvert_exporter": "python",
   "pygments_lexer": "ipython3",
   "version": "3.12.4"
  }
 },
 "nbformat": 4,
 "nbformat_minor": 5
}
