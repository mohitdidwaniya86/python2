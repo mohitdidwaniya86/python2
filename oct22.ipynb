{
 "cells": [
  {
   "cell_type": "code",
   "execution_count": 12,
   "id": "9f03b245-b7a2-453d-a960-8649821528aa",
   "metadata": {},
   "outputs": [
    {
     "ename": "IndentationError",
     "evalue": "unindent does not match any outer indentation level (<string>, line 10)",
     "output_type": "error",
     "traceback": [
      "\u001b[1;36m  File \u001b[1;32m<string>:10\u001b[1;36m\u001b[0m\n\u001b[1;33m    for j in range(len(mylist)+1):\u001b[0m\n\u001b[1;37m                                  ^\u001b[0m\n\u001b[1;31mIndentationError\u001b[0m\u001b[1;31m:\u001b[0m unindent does not match any outer indentation level\n"
     ]
    }
   ],
   "source": [
    "#nested list\n",
    "#pascle triangle\n",
    "mylist=[[1]]\n",
    "n=5\n",
    "for i in range(0,n-1):\n",
    "     temp=[0]+mylist[-1]+[0]\n",
    "     list1=[]\n",
    "    \n",
    " # [0,10] ,mylist=1\n",
    "    for j in range(len(mylist)+1):\n",
    "        list1.append(temp[j]+temp[j+1])                                                               \n",
    "        mylist.append(list1)\n",
    "    print(mylist)    \n",
    "\n",
    "  \n",
    "\n"
   ]
  },
  {
   "cell_type": "code",
   "execution_count": 6,
   "id": "bdd31fa6-36fb-48ee-9656-d09af229c21d",
   "metadata": {},
   "outputs": [
    {
     "ename": "SyntaxError",
     "evalue": "incomplete input (1009684294.py, line 9)",
     "output_type": "error",
     "traceback": [
      "\u001b[1;36m  Cell \u001b[1;32mIn[6], line 9\u001b[1;36m\u001b[0m\n\u001b[1;33m    \u001b[0m\n\u001b[1;37m    ^\u001b[0m\n\u001b[1;31mSyntaxError\u001b[0m\u001b[1;31m:\u001b[0m incomplete input\n"
     ]
    }
   ],
   "source": [
    "list=[]\n",
    "for i in range(0,5):\n",
    "    temp=[]\n",
    "    for j in range(0,i+1):\n",
    "        if(j==0 or j==1):\n",
    "            temp.append(1)\n",
    "        else:\n",
    "            \n",
    "    "
   ]
  },
  {
   "cell_type": "code",
   "execution_count": null,
   "id": "5998a148-3ca7-4b3a-8cac-59d2703dcc33",
   "metadata": {},
   "outputs": [],
   "source": [
    "li=[[1]]\n",
    "n=5\n",
    "for i in range(1,n-1):\n",
    "    temp=[0]+[-1]+[0]\n",
    "    x=[]\n",
    "    "
   ]
  }
 ],
 "metadata": {
  "kernelspec": {
   "display_name": "Python 3 (ipykernel)",
   "language": "python",
   "name": "python3"
  },
  "language_info": {
   "codemirror_mode": {
    "name": "ipython",
    "version": 3
   },
   "file_extension": ".py",
   "mimetype": "text/x-python",
   "name": "python",
   "nbconvert_exporter": "python",
   "pygments_lexer": "ipython3",
   "version": "3.12.4"
  }
 },
 "nbformat": 4,
 "nbformat_minor": 5
}
