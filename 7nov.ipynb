{
 "cells": [
  {
   "cell_type": "code",
   "execution_count": 18,
   "id": "58a5a31f-67a9-4334-a775-781dbf9fe48a",
   "metadata": {},
   "outputs": [
    {
     "data": {
      "text/plain": [
       "[100, 400, 900]"
      ]
     },
     "execution_count": 18,
     "metadata": {},
     "output_type": "execute_result"
    }
   ],
   "source": [
    "mylist=[10,20,30]\n",
    "def square(num):\n",
    "    return num**2\n",
    "\n",
    "out=map(square,mylist)\n",
    "next(out)\n",
    "list(map(square,mylist))\n",
    "# list(filter(lambda num:num%3==0,mylist)\n",
    "\n",
    "\n"
   ]
  },
  {
   "cell_type": "code",
   "execution_count": 3,
   "id": "6464b9da-748b-4de3-96f1-37f8b4d9ef99",
   "metadata": {},
   "outputs": [
    {
     "data": {
      "text/plain": [
       "400"
      ]
     },
     "execution_count": 3,
     "metadata": {},
     "output_type": "execute_result"
    }
   ],
   "source": [
    "next(out)"
   ]
  },
  {
   "cell_type": "code",
   "execution_count": 20,
   "id": "a86c8dd1-2030-487f-b5d4-13330f52d4d2",
   "metadata": {},
   "outputs": [],
   "source": [
    "#exception handling\n",
    "#handling the error -> terminate\n"
   ]
  },
  {
   "cell_type": "code",
   "execution_count": 42,
   "id": "0466466e-4caf-4c7c-a7c5-e60db9f8e057",
   "metadata": {},
   "outputs": [
    {
     "name": "stdout",
     "output_type": "stream",
     "text": [
      "10\n",
      "error occured can only concatenate str (not \"int\") to str\n",
      "hello\n"
     ]
    }
   ],
   "source": [
    "try:\n",
    "    print(10)\n",
    "    'hey'+45\n",
    "    print(num2356)\n",
    "   \n",
    "except (NameError,TypeError) as e:\n",
    "    print('error occured',e)\n",
    "except Exception as e:\n",
    "    print(' All error occured',e)\n",
    "finally:\n",
    "    print('hello')"
   ]
  },
  {
   "cell_type": "code",
   "execution_count": 38,
   "id": "7c2307bd-c10e-48c5-80ea-aafba242193a",
   "metadata": {},
   "outputs": [
    {
     "ename": "SyntaxError",
     "evalue": "invalid syntax (4002724231.py, line 1)",
     "output_type": "error",
     "traceback": [
      "\u001b[1;36m  Cell \u001b[1;32mIn[38], line 1\u001b[1;36m\u001b[0m\n\u001b[1;33m    finally:\u001b[0m\n\u001b[1;37m    ^\u001b[0m\n\u001b[1;31mSyntaxError\u001b[0m\u001b[1;31m:\u001b[0m invalid syntax\n"
     ]
    }
   ],
   "source": []
  },
  {
   "cell_type": "code",
   "execution_count": null,
   "id": "744aa68c-57c5-4eaa-997d-149d7f4188e5",
   "metadata": {},
   "outputs": [],
   "source": [
    "left=0\n",
    "right=len(num)-1\n",
    "target=9\n",
    "num=[2,7,11,15]\n",
    "# left=0\n",
    "# right=len(num)-1\n",
    "\n",
    "while right>left:\n",
    "    if num[right]+num[left]>target:\n",
    "        right-=1\n",
    "    elif num[right]+num[left]<target:\n",
    "        left+=1\n",
    "    else:\n",
    "        \n",
    "         num[right]+num[left]==target\n",
    "         print(left+1,right+1)\n",
    "        "
   ]
  },
  {
   "cell_type": "code",
   "execution_count": null,
   "id": "a6579d2d-0bc9-49fc-b892-a476e97ed30a",
   "metadata": {},
   "outputs": [],
   "source": []
  }
 ],
 "metadata": {
  "kernelspec": {
   "display_name": "Python 3 (ipykernel)",
   "language": "python",
   "name": "python3"
  },
  "language_info": {
   "codemirror_mode": {
    "name": "ipython",
    "version": 3
   },
   "file_extension": ".py",
   "mimetype": "text/x-python",
   "name": "python",
   "nbconvert_exporter": "python",
   "pygments_lexer": "ipython3",
   "version": "3.12.4"
  }
 },
 "nbformat": 4,
 "nbformat_minor": 5
}
