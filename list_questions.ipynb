{
 "cells": [
  {
   "cell_type": "code",
   "execution_count": 1,
   "id": "2e16a890-10bb-4275-b7e6-51e88eab98d9",
   "metadata": {},
   "outputs": [
    {
     "name": "stdin",
     "output_type": "stream",
     "text": [
      "Enter size: 2\n",
      "Enter item: 3\n",
      "Enter item: 5\n"
     ]
    },
    {
     "name": "stdout",
     "output_type": "stream",
     "text": [
      "['3', '5']\n"
     ]
    }
   ],
   "source": [
    "a= []\n",
    "size = int(input(\"Enter size:\"))\n",
    "for i in range(size):\n",
    "    val = input(\"Enter item:\")\n",
    "    a.append(val) \n",
    "print(a) "
   ]
  },
  {
   "cell_type": "code",
   "execution_count": 7,
   "id": "c93d6a74-aa34-46e2-9c1d-ff4e4aec937b",
   "metadata": {},
   "outputs": [
    {
     "name": "stdout",
     "output_type": "stream",
     "text": [
      "4\n",
      "56\n"
     ]
    }
   ],
   "source": [
    "my=[13,4,56,9]\n",
    "for i in my:\n",
    "    if i%2==0:\n",
    "        print(i)"
   ]
  },
  {
   "cell_type": "code",
   "execution_count": 21,
   "id": "0747644b-000f-4758-810a-80d64f8db671",
   "metadata": {},
   "outputs": [
    {
     "name": "stdout",
     "output_type": "stream",
     "text": [
      "1 4 64 "
     ]
    }
   ],
   "source": [
    "li=[1,2,True,'hfj',8]\n",
    "for i in li:\n",
    "    if (type(i)==int):\n",
    "        print(i**2,end=' ')\n",
    "        \n",
    "        "
   ]
  },
  {
   "cell_type": "code",
   "execution_count": 52,
   "id": "815f144e-ea3a-407b-9d88-d9dc29275ada",
   "metadata": {},
   "outputs": [
    {
     "name": "stdout",
     "output_type": "stream",
     "text": [
      "False\n",
      "True\n",
      "True\n",
      "False\n",
      "False\n",
      "False\n",
      "True\n"
     ]
    }
   ],
   "source": [
    "x=7\n",
    "my=[1,7,7,2,3,5,7]\n",
    "for i in range(len(my)):\n",
    "    \n",
    "     if my[i]==x:\n",
    "  \n",
    "        print(True)\n",
    "     else:\n",
    "        print(False)\n"
   ]
  },
  {
   "cell_type": "code",
   "execution_count": 82,
   "id": "9ec1f87a-ab65-4135-bf28-07860aac850c",
   "metadata": {},
   "outputs": [
    {
     "name": "stdout",
     "output_type": "stream",
     "text": [
      "non duplicate\n"
     ]
    }
   ],
   "source": [
    "mylist=[1,2,3,11,5]\n",
    "x=0\n",
    "for i in range(0,len(mylist)):\n",
    "    for j in range(i+1,len(mylist)):\n",
    "        if mylist[i]==mylist[j]:\n",
    "           \n",
    "            x+=1\n",
    "            break\n",
    "if(x==1):\n",
    "     print('duplicate',True)\n",
    "else:\n",
    "    x==0\n",
    "    print('non duplicate')\n",
    "    \n",
    "        # else:\n",
    "        #     print(False)\n",
    "        # print()"
   ]
  },
  {
   "cell_type": "code",
   "execution_count": 84,
   "id": "aed877a5-f0f8-444d-9959-d676b972a1bf",
   "metadata": {},
   "outputs": [
    {
     "name": "stdout",
     "output_type": "stream",
     "text": [
      "1 2\n",
      "3 5\n",
      "3 7\n",
      "5 7\n"
     ]
    }
   ],
   "source": [
    "new=[1,2,2,3,56,3,78,3]\n",
    "for i in range(0,len(new)):\n",
    "    for j in range(i+1,len(new)):\n",
    "        if new[i]==new[j]:\n",
    "            \n",
    "            \n",
    "            \n",
    "        "
   ]
  },
  {
   "cell_type": "code",
   "execution_count": 3,
   "id": "b37adaa0-c528-4064-8e7d-c6f7964574ca",
   "metadata": {},
   "outputs": [
    {
     "name": "stdout",
     "output_type": "stream",
     "text": [
      "100\n"
     ]
    }
   ],
   "source": [
    "li=[1,-1,2,45,76,100,34,89,99]\n",
    "max=li[0]\n",
    "\n",
    "for i in li:\n",
    "    if i>max:\n",
    "        max=i\n",
    "print(max)\n",
    "        \n"
   ]
  },
  {
   "cell_type": "code",
   "execution_count": 156,
   "id": "1fc12b9c-4216-41fd-acb5-6171d2811096",
   "metadata": {},
   "outputs": [
    {
     "name": "stdout",
     "output_type": "stream",
     "text": [
      "0 0\n"
     ]
    }
   ],
   "source": [
    "li=[1,-1,2,45,76,100,34,89,99]\n",
    "max=0\n",
    "second=0\n",
    "\n",
    "for i in li:\n",
    "    if i>max and max!=second:\n",
    "        second=max\n",
    "        max=i\n",
    "print(max,second)\n",
    "        "
   ]
  },
  {
   "cell_type": "code",
   "execution_count": 5,
   "id": "0bc35072-cb94-4032-94b0-bb6c7152fc0a",
   "metadata": {},
   "outputs": [
    {
     "data": {
      "text/plain": [
       "[12, 4, 'cnj', 67]"
      ]
     },
     "execution_count": 5,
     "metadata": {},
     "output_type": "execute_result"
    }
   ],
   "source": [
    "my1=[12,4,'cnj']\n",
    "my1.append(67)\n",
    "my1"
   ]
  },
  {
   "cell_type": "code",
   "execution_count": 9,
   "id": "bec74919-1865-40eb-8a14-2bc2051f322a",
   "metadata": {},
   "outputs": [],
   "source": [
    "my1.extend('hty')"
   ]
  },
  {
   "cell_type": "code",
   "execution_count": 11,
   "id": "8cf1ec71-bf2b-46d3-b52e-7b8e2258ad5b",
   "metadata": {},
   "outputs": [
    {
     "data": {
      "text/plain": [
       "[12, 4, 'cnj', 67, 'h', 't', 'y']"
      ]
     },
     "execution_count": 11,
     "metadata": {},
     "output_type": "execute_result"
    }
   ],
   "source": [
    "my1"
   ]
  },
  {
   "cell_type": "code",
   "execution_count": 13,
   "id": "4315cf90-fdc9-490f-8532-5e1c35457542",
   "metadata": {},
   "outputs": [
    {
     "data": {
      "text/plain": [
       "[12, 4, 'cnj', 67, 'h', 't', 'y', 'hty']"
      ]
     },
     "execution_count": 13,
     "metadata": {},
     "output_type": "execute_result"
    }
   ],
   "source": [
    "my1.extend(['hty'])\n",
    "my1"
   ]
  },
  {
   "cell_type": "code",
   "execution_count": 15,
   "id": "98f7b9d4-4155-468d-a9a3-74769069fd36",
   "metadata": {},
   "outputs": [
    {
     "data": {
      "text/plain": [
       "'hty'"
      ]
     },
     "execution_count": 15,
     "metadata": {},
     "output_type": "execute_result"
    }
   ],
   "source": [
    "my1.pop()"
   ]
  },
  {
   "cell_type": "code",
   "execution_count": 17,
   "id": "9fa40972-3e84-4913-ba5b-2fcaf79fb82e",
   "metadata": {},
   "outputs": [],
   "source": [
    "my1.insert(0,11)"
   ]
  },
  {
   "cell_type": "code",
   "execution_count": 19,
   "id": "26e06cdd-7039-46c1-a263-989d92585b5c",
   "metadata": {},
   "outputs": [
    {
     "data": {
      "text/plain": [
       "[11, 12, 4, 'cnj', 67, 'h', 't', 'y']"
      ]
     },
     "execution_count": 19,
     "metadata": {},
     "output_type": "execute_result"
    }
   ],
   "source": [
    "my1"
   ]
  },
  {
   "cell_type": "code",
   "execution_count": 27,
   "id": "f933dad3-d007-49f8-a746-9fd81c38a976",
   "metadata": {},
   "outputs": [],
   "source": [
    "# help(my1)  function show all functionality"
   ]
  },
  {
   "cell_type": "code",
   "execution_count": 41,
   "id": "980501c1-f704-45f1-a849-14d1fd04986e",
   "metadata": {},
   "outputs": [
    {
     "name": "stdout",
     "output_type": "stream",
     "text": [
      "210\n"
     ]
    }
   ],
   "source": [
    "#maximum no.in list:\n",
    "l1=[10,210,4,78,6]\n",
    "max=l1[0]\n",
    "for i in l1:\n",
    "    if i>max:\n",
    "        max=i\n",
    "    elif i<max:\n",
    "        i+=1\n",
    "        \n",
    "    \n",
    "print(max)\n",
    "\n",
    " \n",
    "\n",
    "        \n",
    "   \n",
    "         \n"
   ]
  },
  {
   "cell_type": "code",
   "execution_count": 54,
   "id": "73b294d2-6773-4f9a-833b-86325aecefed",
   "metadata": {},
   "outputs": [
    {
     "name": "stdout",
     "output_type": "stream",
     "text": [
      "688 210\n"
     ]
    }
   ],
   "source": [
    "l2=[107,210,4,78,688]\n",
    "max=0\n",
    "second_max=0\n",
    "for i in l2:\n",
    "    if i>max :\n",
    "        second_max=max\n",
    "        max=i\n",
    "    elif second_max< i and max!=second_max:\n",
    "        second_max=i\n",
    "print(max,second_max)\n",
    "        \n",
    "    \n",
    "  "
   ]
  },
  {
   "cell_type": "code",
   "execution_count": 101,
   "id": "9097b3aa-8c5a-4bd5-ab17-b499af9d21ac",
   "metadata": {},
   "outputs": [
    {
     "name": "stdout",
     "output_type": "stream",
     "text": [
      "consicutive 11\n",
      "consicutive 11\n",
      "consicutive 8\n",
      "not\n"
     ]
    }
   ],
   "source": [
    "l3=[2,11,11,11,11,6,7,8,8,8]\n",
    "for i in range(0,len(l3)-2):\n",
    "    if l3[i]==l3[i+1] and l3[i]==l3[i+2]:\n",
    "        print('consicutive',l3[i])\n",
    "    elif l3[i]!=l3[i+1] and l3[i]!=l3[i+2]:\n",
    "        i+=1\n",
    "print('not')\n",
    "        \n",
    "    \n",
    "        \n",
    "    \n",
    "    \n"
   ]
  },
  {
   "cell_type": "code",
   "execution_count": 147,
   "id": "de2e17af-d959-4493-bc2b-19f4c2855570",
   "metadata": {},
   "outputs": [
    {
     "name": "stdout",
     "output_type": "stream",
     "text": [
      "True\n"
     ]
    }
   ],
   "source": [
    "s='egg'\n",
    "t='add'\n",
    "m1=[]\n",
    "m2=[]\n",
    "for i in s:\n",
    "    m1.append(s.index(i))\n",
    "for j in t:\n",
    "    m2.append(t.index(j))\n",
    "if m1==m2:\n",
    "    print(True)\n",
    "else:\n",
    "    print(False)\n",
    "\n",
    "        \n",
    "        \n",
    "    \n",
    "    \n",
    "    \n"
   ]
  },
  {
   "cell_type": "code",
   "execution_count": 195,
   "id": "dbfe4729-dace-45ac-bd20-ed14ac837edb",
   "metadata": {},
   "outputs": [
    {
     "data": {
      "text/plain": [
       "0"
      ]
     },
     "execution_count": 195,
     "metadata": {},
     "output_type": "execute_result"
    }
   ],
   "source": [
    "st='adda'\n",
    "\n",
    "st.index('d')\n",
    "st.index('d')\n",
    "st.index('a')\n",
    "    \n",
    "    \n",
    "    \n",
    "   \n",
    "\n",
    "    \n"
   ]
  },
  {
   "cell_type": "code",
   "execution_count": 235,
   "id": "948f2497-8645-4c21-8c18-7f7ee792b7b3",
   "metadata": {},
   "outputs": [
    {
     "name": "stdout",
     "output_type": "stream",
     "text": [
      "2\n"
     ]
    }
   ],
   "source": [
    "nums = [3,2,2,3]\n",
    "val = 3\n",
    "temp=0\n",
    "for i in nums:\n",
    "    if nums[i]!=val:\n",
    "        nums[temp]=nums[i]\n",
    "        temp+=1\n",
    "print(temp)\n",
    "      \n",
    "  \n",
    "           \n",
    "        \n",
    "     \n",
    "    \n",
    "        \n",
    "        \n",
    "        \n",
    "    \n",
    "  \n",
    "        \n",
    "        "
   ]
  },
  {
   "cell_type": "markdown",
   "id": "a056efff-b26b-4893-989f-fec891f14979",
   "metadata": {},
   "source": []
  },
  {
   "cell_type": "code",
   "execution_count": null,
   "id": "0a6389f7-8299-4eae-bee7-42b959289c65",
   "metadata": {},
   "outputs": [],
   "source": []
  },
  {
   "cell_type": "code",
   "execution_count": null,
   "id": "e7dc0d2f-764c-462c-9f01-8234d2954782",
   "metadata": {},
   "outputs": [],
   "source": []
  }
 ],
 "metadata": {
  "kernelspec": {
   "display_name": "Python 3 (ipykernel)",
   "language": "python",
   "name": "python3"
  },
  "language_info": {
   "codemirror_mode": {
    "name": "ipython",
    "version": 3
   },
   "file_extension": ".py",
   "mimetype": "text/x-python",
   "name": "python",
   "nbconvert_exporter": "python",
   "pygments_lexer": "ipython3",
   "version": "3.12.4"
  }
 },
 "nbformat": 4,
 "nbformat_minor": 5
}
