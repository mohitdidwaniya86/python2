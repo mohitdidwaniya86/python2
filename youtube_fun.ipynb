{
 "cells": [
  {
   "cell_type": "code",
   "execution_count": 15,
   "id": "37aaefdb-0e1b-462e-bba0-698fc430e2c8",
   "metadata": {},
   "outputs": [
    {
     "name": "stdout",
     "output_type": "stream",
     "text": [
      "8\n"
     ]
    },
    {
     "data": {
      "text/plain": [
       "8"
      ]
     },
     "execution_count": 15,
     "metadata": {},
     "output_type": "execute_result"
    }
   ],
   "source": [
    "def sum(a,b):\n",
    "    sum= a+b\n",
    "    print(sum)\n",
    "    return sum\n",
    "sum(1,7) \n",
    "\n"
   ]
  },
  {
   "cell_type": "code",
   "execution_count": 21,
   "id": "29a9979b-4662-4c51-800e-1a2b064576c6",
   "metadata": {},
   "outputs": [
    {
     "name": "stdout",
     "output_type": "stream",
     "text": [
      "16\n"
     ]
    },
    {
     "data": {
      "text/plain": [
       "16"
      ]
     },
     "execution_count": 21,
     "metadata": {},
     "output_type": "execute_result"
    }
   ],
   "source": [
    "def mul(a=4, b=4):\n",
    "    print(a*b)\n",
    "    return a*b\n",
    "mul()\n"
   ]
  },
  {
   "cell_type": "code",
   "execution_count": 23,
   "id": "eeb2425b-d8be-45e6-8520-5df90f220de2",
   "metadata": {},
   "outputs": [
    {
     "name": "stdout",
     "output_type": "stream",
     "text": [
      "6\n"
     ]
    }
   ],
   "source": [
    "number=[1,3,4,5,6,7]\n",
    "def num_len(n):\n",
    "    print(len(n))\n",
    "num_len(number)"
   ]
  },
  {
   "cell_type": "code",
   "execution_count": 37,
   "id": "e7bdeebf-9c03-45bb-9c78-507c663addd5",
   "metadata": {},
   "outputs": [
    {
     "name": "stdout",
     "output_type": "stream",
     "text": [
      "pune mumbai bhilwara "
     ]
    }
   ],
   "source": [
    "cities=['pune','mumbai','bhilwara']\n",
    "def city(n):\n",
    "    for i in n:\n",
    "        print(i,end=' ')\n",
    "city(cities) "
   ]
  },
  {
   "cell_type": "code",
   "execution_count": 41,
   "id": "d31383bf-664a-44d0-8278-bed53a4f1c92",
   "metadata": {},
   "outputs": [
    {
     "data": {
      "text/plain": [
       "120"
      ]
     },
     "execution_count": 41,
     "metadata": {},
     "output_type": "execute_result"
    }
   ],
   "source": [
    "n=5\n",
    "fact=1\n",
    "for i in range(1,n+1):\n",
    "    fact=fact*i\n",
    "fact"
   ]
  },
  {
   "cell_type": "code",
   "execution_count": 43,
   "id": "0ff02793-2f81-4e2c-907a-9bf483df0e1a",
   "metadata": {},
   "outputs": [
    {
     "name": "stdout",
     "output_type": "stream",
     "text": [
      "120\n"
     ]
    }
   ],
   "source": [
    "def fact(n):\n",
    "    fact=1\n",
    "    for i in range(1,n+1):\n",
    "        fact=fact*i\n",
    "    print(fact)\n",
    "fact(5)\n",
    "\n",
    "    "
   ]
  },
  {
   "cell_type": "code",
   "execution_count": null,
   "id": "9547c111-0f2a-4a8c-a367-6fd90d031af5",
   "metadata": {},
   "outputs": [],
   "source": [
    "# input if odd return sttring odd , if num is even return string even \n"
   ]
  }
 ],
 "metadata": {
  "kernelspec": {
   "display_name": "Python 3 (ipykernel)",
   "language": "python",
   "name": "python3"
  },
  "language_info": {
   "codemirror_mode": {
    "name": "ipython",
    "version": 3
   },
   "file_extension": ".py",
   "mimetype": "text/x-python",
   "name": "python",
   "nbconvert_exporter": "python",
   "pygments_lexer": "ipython3",
   "version": "3.12.4"
  }
 },
 "nbformat": 4,
 "nbformat_minor": 5
}
