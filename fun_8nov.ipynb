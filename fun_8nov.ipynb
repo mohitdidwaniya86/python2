{
 "cells": [
  {
   "cell_type": "code",
   "execution_count": 3,
   "id": "e06aa0a7-ebe2-4a8b-a2e4-a417c9e5d1f8",
   "metadata": {},
   "outputs": [],
   "source": [
    "s='egg'\n",
    "t='add'\n",
    "# print(s[0])\n"
   ]
  },
  {
   "cell_type": "code",
   "execution_count": 11,
   "id": "9d9dac35-0eee-40ce-9bac-952edd19ce29",
   "metadata": {},
   "outputs": [],
   "source": [
    "list=[2,3,3,2]     \n",
    "val=2\n",
    "i=0\n",
    "j=0\n",
    "while j<len(list):\n",
    "    if list[i]==val:\n",
    "        j+=1\n",
    "        \n",
    "\n"
   ]
  },
  {
   "cell_type": "code",
   "execution_count": null,
   "id": "020ee3a4-4d99-44ad-a0ef-b58e25d05802",
   "metadata": {},
   "outputs": [],
   "source": []
  }
 ],
 "metadata": {
  "kernelspec": {
   "display_name": "Python 3 (ipykernel)",
   "language": "python",
   "name": "python3"
  },
  "language_info": {
   "codemirror_mode": {
    "name": "ipython",
    "version": 3
   },
   "file_extension": ".py",
   "mimetype": "text/x-python",
   "name": "python",
   "nbconvert_exporter": "python",
   "pygments_lexer": "ipython3",
   "version": "3.12.4"
  }
 },
 "nbformat": 4,
 "nbformat_minor": 5
}
