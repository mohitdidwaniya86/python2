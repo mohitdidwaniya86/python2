{
 "cells": [
  {
   "cell_type": "code",
   "execution_count": 3,
   "id": "c201535e-abe9-4326-9bec-7fb6d6cf7ad5",
   "metadata": {},
   "outputs": [
    {
     "data": {
      "text/plain": [
       "{20: 'naina', 30: 'heyy'}"
      ]
     },
     "execution_count": 3,
     "metadata": {},
     "output_type": "execute_result"
    }
   ],
   "source": [
    "mydict={10:'tushatr',20:'naina',30:'heyy'}\n",
    "del mydict[10]\n",
    "mydict"
   ]
  },
  {
   "cell_type": "code",
   "execution_count": 5,
   "id": "3b315bf9-de3e-4e5e-a5d0-7b3cf574ea9c",
   "metadata": {},
   "outputs": [
    {
     "data": {
      "text/plain": [
       "{20: 'kk', 30: 'heyy'}"
      ]
     },
     "execution_count": 5,
     "metadata": {},
     "output_type": "execute_result"
    }
   ],
   "source": [
    "mydict[20]='kk'\n",
    "mydict"
   ]
  },
  {
   "cell_type": "code",
   "execution_count": 7,
   "id": "b462de15-46dc-405a-90f7-b50adccdb4eb",
   "metadata": {},
   "outputs": [
    {
     "data": {
      "text/plain": [
       "{20: 'mk', 30: 'heyy'}"
      ]
     },
     "execution_count": 7,
     "metadata": {},
     "output_type": "execute_result"
    }
   ],
   "source": [
    "mydict.update({20:'mk'})\n",
    "mydict"
   ]
  },
  {
   "cell_type": "code",
   "execution_count": 11,
   "id": "ca4b5137-5363-4736-9c3b-30e4e3ffb358",
   "metadata": {},
   "outputs": [
    {
     "name": "stdout",
     "output_type": "stream",
     "text": [
      "20 mk\n",
      "30 heyy\n"
     ]
    }
   ],
   "source": [
    "#key is immutable datatype\n",
    "for key in mydict:\n",
    "    print(key, mydict[key])"
   ]
  },
  {
   "cell_type": "code",
   "execution_count": 15,
   "id": "2f068dfb-0059-420a-84f2-cc7f8d7777d2",
   "metadata": {},
   "outputs": [
    {
     "data": {
      "text/plain": [
       "{'x': 12}"
      ]
     },
     "execution_count": 15,
     "metadata": {},
     "output_type": "execute_result"
    }
   ],
   "source": [
    "dict={'x':10}\n",
    "dict['x']=dict['x']+2\n",
    "dict"
   ]
  },
  {
   "cell_type": "code",
   "execution_count": 28,
   "id": "a57fc4bb-ec38-44b0-a0e1-fd005032e717",
   "metadata": {},
   "outputs": [
    {
     "name": "stdout",
     "output_type": "stream",
     "text": [
      "{'total': 1}\n",
      "{'total': 2}\n",
      "{'total': 3}\n",
      "{'total': 4}\n",
      "{'total': 5}\n",
      "{'total': 6}\n",
      "{'total': 7}\n",
      "{'total': 8}\n"
     ]
    }
   ],
   "source": [
    "my={'total':0}\n",
    "for i in range(10,18):\n",
    "    my['total']= my['total']+1\n",
    "    \n",
    "    print(my)\n",
    "    "
   ]
  },
  {
   "cell_type": "code",
   "execution_count": 39,
   "id": "fb829704-feab-4114-9dbd-c0109316ae62",
   "metadata": {},
   "outputs": [
    {
     "name": "stdout",
     "output_type": "stream",
     "text": [
      "{'total': 7}\n"
     ]
    }
   ],
   "source": [
    "'heyuser'\n",
    "d={'total':0}\n",
    "for i in 'heyuser':\n",
    "    d['total']=d['total']+1\n",
    "print(d)\n",
    "  \n",
    "    "
   ]
  },
  {
   "cell_type": "code",
   "execution_count": 1,
   "id": "a7ce407d-f2a2-499e-857e-6ee464dddf82",
   "metadata": {},
   "outputs": [
    {
     "name": "stdout",
     "output_type": "stream",
     "text": [
      "{'total': 0, 'h': 1, 'e': 1, 'y': 1, 'u': 1, 's': 1, 'r': 1}\n"
     ]
    }
   ],
   "source": [
    "'heyuser'\n",
    "d={'total':0}\n",
    "for i in 'heyuser':\n",
    "    d[i]=1 # value fixed of keys\n",
    "    \n",
    "print(d)\n"
   ]
  },
  {
   "cell_type": "code",
   "execution_count": 5,
   "id": "b52bf01f-3892-4afd-ae78-1e406376ef60",
   "metadata": {},
   "outputs": [
    {
     "name": "stdout",
     "output_type": "stream",
     "text": [
      "{'h': 1}\n",
      "{'h': 1, 'e': 1}\n",
      "{'h': 1, 'e': 1, 'y': 1}\n",
      "{'h': 1, 'e': 1, 'y': 1, 'u': 1}\n",
      "{'h': 1, 'e': 1, 'y': 1, 'u': 1, 's': 1}\n",
      "{'h': 1, 'e': 2, 'y': 1, 'u': 1, 's': 1}\n",
      "{'h': 1, 'e': 2, 'y': 1, 'u': 1, 's': 1, 'r': 1}\n"
     ]
    }
   ],
   "source": [
    "string='heyuser'\n",
    "dict2={}\n",
    "for i in string:\n",
    "    if i not in  dict2:\n",
    "        dict2[i]=1\n",
    "    else:\n",
    "        dict2[i]=dict2[i]+1\n",
    "    print(dict2)\n",
    "        \n",
    "    \n",
    "   "
   ]
  },
  {
   "cell_type": "code",
   "execution_count": 107,
   "id": "4d5e3a90-98ed-4c7b-97ca-c90d23bb3b8f",
   "metadata": {},
   "outputs": [
    {
     "name": "stdout",
     "output_type": "stream",
     "text": [
      "14\n",
      "28\n",
      "42\n",
      "{'yes': 3, 'no': 46}\n"
     ]
    }
   ],
   "source": [
    "#divisible by 2 and 7\n",
    "dict={'yes':0 ,'no':0}\n",
    "for i in range(2,51):\n",
    "    if i%2==0 and i%7==0:\n",
    "        print(i)\n",
    "        dict['yes']=dict['yes']+1\n",
    "    else:\n",
    "        dict['no']=dict['no']+1\n",
    "print(dict)   "
   ]
  },
  {
   "cell_type": "code",
   "execution_count": 105,
   "id": "33b2bd76-8f67-4ca4-bd27-fc94dadb4a16",
   "metadata": {},
   "outputs": [
    {
     "name": "stdout",
     "output_type": "stream",
     "text": [
      "{'vowel': 0}\n",
      "e\n",
      "{'vowel': 1}\n",
      "{'vowel': 1}\n",
      "u\n",
      "{'vowel': 2}\n",
      "{'vowel': 2}\n",
      "e\n",
      "{'vowel': 3}\n",
      "{'vowel': 3}\n"
     ]
    }
   ],
   "source": [
    "my1={'vowel':0}\n",
    "vowel='aeiou'\n",
    "strting='hey hello tushar ieo'\n",
    "for i in  string:\n",
    "    if i in vowel:\n",
    "        my1['vowel']+=1\n",
    "        print(i)\n",
    "    print(my1)"
   ]
  },
  {
   "cell_type": "code",
   "execution_count": 7,
   "id": "ae1472df-ce6c-4c60-9641-1d52a76fe415",
   "metadata": {},
   "outputs": [
    {
     "data": {
      "text/plain": [
       "['hey', 'hello']"
      ]
     },
     "execution_count": 7,
     "metadata": {},
     "output_type": "execute_result"
    }
   ],
   "source": [
    "'hey hello'.split(\" \")"
   ]
  },
  {
   "cell_type": "code",
   "execution_count": 121,
   "id": "58d4c7b4-c321-429d-81c9-7491c6cf382a",
   "metadata": {},
   "outputs": [
    {
     "data": {
      "text/plain": [
       "['h', 'y h', 'llo']"
      ]
     },
     "execution_count": 121,
     "metadata": {},
     "output_type": "execute_result"
    }
   ],
   "source": [
    "'hey hello'.split(\"e\")"
   ]
  },
  {
   "cell_type": "code",
   "execution_count": 123,
   "id": "6c26ce14-2b6b-43e5-acff-59bb197cfa60",
   "metadata": {},
   "outputs": [
    {
     "ename": "SyntaxError",
     "evalue": "incomplete input (3943315875.py, line 6)",
     "output_type": "error",
     "traceback": [
      "\u001b[1;36m  Cell \u001b[1;32mIn[123], line 6\u001b[1;36m\u001b[0m\n\u001b[1;33m    \u001b[0m\n\u001b[1;37m    ^\u001b[0m\n\u001b[1;31mSyntaxError\u001b[0m\u001b[1;31m:\u001b[0m incomplete input\n"
     ]
    }
   ],
   "source": [
    "x='hey juj hey htg hey hey hello hello'.split(\" \")\n",
    "empty={}\n",
    "for i in x:\n",
    "    if i not in empty:\n",
    "        \n",
    "    "
   ]
  },
  {
   "cell_type": "code",
   "execution_count": 125,
   "id": "49e0a189-4e16-4f23-9929-0bdac647e73e",
   "metadata": {},
   "outputs": [],
   "source": [
    "#set\n",
    "# unique, collection of element, unordered, no. index\n",
    "#mutable but set element are immutable\n"
   ]
  },
  {
   "cell_type": "code",
   "execution_count": 127,
   "id": "8869aad0-1e27-4ac1-b596-0033df02c60d",
   "metadata": {},
   "outputs": [
    {
     "name": "stdout",
     "output_type": "stream",
     "text": [
      "(1, 2, 3, 4, 5)\n"
     ]
    }
   ],
   "source": [
    "myset={1,2,3,4,5}\n",
    "print(myset)"
   ]
  },
  {
   "cell_type": "code",
   "execution_count": null,
   "id": "0732f27a-4aaf-47de-8e73-9bd601a50669",
   "metadata": {},
   "outputs": [],
   "source": []
  },
  {
   "cell_type": "code",
   "execution_count": null,
   "id": "a1f333bc-e278-4af4-bf06-3a5cb79d2db8",
   "metadata": {},
   "outputs": [],
   "source": [
    "\n",
    "#remove, discard, update,union,intersection,difference ,super set, symmetric diff. update\n",
    "\n",
    "#diff between break, continue and pass\n",
    "#what is diff.betwwen dictionary comprehension and list\n",
    "#diff. between .py file and .pyc file\n"
   ]
  }
 ],
 "metadata": {
  "kernelspec": {
   "display_name": "Python 3 (ipykernel)",
   "language": "python",
   "name": "python3"
  },
  "language_info": {
   "codemirror_mode": {
    "name": "ipython",
    "version": 3
   },
   "file_extension": ".py",
   "mimetype": "text/x-python",
   "name": "python",
   "nbconvert_exporter": "python",
   "pygments_lexer": "ipython3",
   "version": "3.12.4"
  }
 },
 "nbformat": 4,
 "nbformat_minor": 5
}
