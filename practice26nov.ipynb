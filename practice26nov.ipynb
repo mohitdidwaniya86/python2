{
 "cells": [
  {
   "cell_type": "code",
   "execution_count": 1,
   "id": "77922cb9-01b2-4d1b-861e-c500650b86b1",
   "metadata": {},
   "outputs": [
    {
     "data": {
      "text/plain": [
       "{1: 2, 2: 2, 43: 1}"
      ]
     },
     "execution_count": 1,
     "metadata": {},
     "output_type": "execute_result"
    }
   ],
   "source": [
    "li=[1,1,2,2,43]\n",
    "dict1={}\n",
    "for i in li:\n",
    "    if i not in dict1:\n",
    "        dict1[i]=1\n",
    "    else:\n",
    "        dict1[i]=dict1[i]+1\n",
    "dict1"
   ]
  },
  {
   "cell_type": "code",
   "execution_count": 3,
   "id": "83f6f9a1-2597-42e8-8fb8-be8ed695e094",
   "metadata": {},
   "outputs": [
    {
     "data": {
      "text/plain": [
       "{1: 3, 2: 2, 43: 1}"
      ]
     },
     "execution_count": 3,
     "metadata": {},
     "output_type": "execute_result"
    }
   ],
   "source": [
    "li=[1,1,1,2,2,43]\n",
    "dict1={}\n",
    "for i in li:\n",
    "    if i not in dict1:\n",
    "        dict1[i]=1\n",
    "    else:\n",
    "        dict1[i]=dict1[i]+1\n",
    "dict1"
   ]
  },
  {
   "cell_type": "code",
   "execution_count": 17,
   "id": "342d7a1c-4017-480a-bf8e-b8631d389f0b",
   "metadata": {},
   "outputs": [
    {
     "name": "stdin",
     "output_type": "stream",
     "text": [
      "enter num1: 8\n",
      "enter num2: 45\n",
      "enter num3: 99\n"
     ]
    },
    {
     "name": "stdout",
     "output_type": "stream",
     "text": [
      "99\n"
     ]
    }
   ],
   "source": [
    "num1=int(input('enter num1:'))\n",
    "num2=int(input('enter num2:'))\n",
    "num3=int(input('enter num3:'))\n",
    "if num1>num2 and num1>num3:\n",
    "    print(num1)\n",
    "elif num2>num1 and num2>num3:\n",
    "    print(num2)\n",
    "else:\n",
    "    print(num3)"
   ]
  },
  {
   "cell_type": "code",
   "execution_count": 27,
   "id": "3f6f0920-9dbe-4cf3-8fbe-5b8c7fffb882",
   "metadata": {},
   "outputs": [
    {
     "name": "stdin",
     "output_type": "stream",
     "text": [
      "enter a year: 2023\n"
     ]
    },
    {
     "name": "stdout",
     "output_type": "stream",
     "text": [
      "no\n"
     ]
    }
   ],
   "source": [
    "year=int(input('enter a year:'))\n",
    "if year%4==0 and year%100!=0 :\n",
    "    print('yes')\n",
    "else:\n",
    "    print('no')"
   ]
  },
  {
   "cell_type": "code",
   "execution_count": 15,
   "id": "c2214d35-02c4-4d3e-90cc-bf3df9f4362b",
   "metadata": {},
   "outputs": [
    {
     "name": "stdin",
     "output_type": "stream",
     "text": [
      "enter a input: ti\n"
     ]
    },
    {
     "name": "stdout",
     "output_type": "stream",
     "text": [
      "consonant\n"
     ]
    }
   ],
   "source": [
    "letter=input('enter a input:')\n",
    "vowel='AEIOUaeiou'\n",
    "if letter in vowel:\n",
    "    print('it is vowel')\n",
    "else:\n",
    "    print('consonant')"
   ]
  },
  {
   "cell_type": "code",
   "execution_count": 21,
   "id": "10055b6a-741e-4bce-a3c4-509559e67a4c",
   "metadata": {},
   "outputs": [
    {
     "name": "stdin",
     "output_type": "stream",
     "text": [
      "enter a number: 0\n"
     ]
    },
    {
     "name": "stdout",
     "output_type": "stream",
     "text": [
      "zero\n"
     ]
    }
   ],
   "source": [
    "num=int(input('enter a number:'))\n",
    "if num>0:\n",
    "    print('+ve')\n",
    "elif num<0:\n",
    "    print('-ve')\n",
    "else:\n",
    "    print('zero')"
   ]
  },
  {
   "cell_type": "code",
   "execution_count": 37,
   "id": "d6ae5851-ffdb-4248-bea0-c42ef727bbaf",
   "metadata": {},
   "outputs": [
    {
     "name": "stdin",
     "output_type": "stream",
     "text": [
      "enter username: adminds\n",
      "enter password: 1234\n"
     ]
    },
    {
     "name": "stdout",
     "output_type": "stream",
     "text": [
      "login failed\n"
     ]
    }
   ],
   "source": [
    "# Q8 Write a program that checks if a username and password entered by the user match the pre-set values\n",
    "# username = \"admin\" and password = \"1234\". If both match, print \"Login Successful\", otherwise print\n",
    "# \"Login Failed\".\n",
    "username = \"admin\"\n",
    "password = \"1234\"\n",
    "username1=(input('enter username:'))\n",
    "password1=(input('enter password:'))\n",
    "if username==username1 and password==password1 :\n",
    "    print('login successfull!')\n",
    "else:\n",
    "    print('login failed')\n",
    "    \n"
   ]
  },
  {
   "cell_type": "code",
   "execution_count": 19,
   "id": "d123e9ad-40e0-43e7-837b-9378aaa6ba1a",
   "metadata": {},
   "outputs": [
    {
     "name": "stdin",
     "output_type": "stream",
     "text": [
      "enter hights 5666\n",
      "enter weights 20\n"
     ]
    },
    {
     "name": "stdout",
     "output_type": "stream",
     "text": [
      "Underweight\n"
     ]
    }
   ],
   "source": [
    "heights=float(input('enter hights'))\n",
    "weights= int(input('enter weights'))\n",
    "BMI = weights  / heights **2\n",
    "BMI = round(BMI, 2)\n",
    "if (BMI < 18.5):\n",
    "    print('Underweight')\n",
    "elif(18.5 <= BMI < 24.9):\n",
    "    print('Normal weight')\n",
    "elif(25 <= BMI < 29.9):\n",
    "    \n",
    "    print('overweight')\n",
    "else:\n",
    "    print('obesity')\n"
   ]
  },
  {
   "cell_type": "code",
   "execution_count": 37,
   "id": "fee97b89-2da0-4f7c-b99c-e3e1798a0664",
   "metadata": {},
   "outputs": [
    {
     "name": "stdout",
     "output_type": "stream",
     "text": [
      "Welcome to ATM!\n"
     ]
    },
    {
     "name": "stdin",
     "output_type": "stream",
     "text": [
      "enter a options: 4\n"
     ]
    },
    {
     "name": "stdout",
     "output_type": "stream",
     "text": [
      "Thank you!\n"
     ]
    }
   ],
   "source": [
    "# Q13 Write a program that simulates a simple ATM. The user should be able to:\n",
    "# Check balance\n",
    "# Deposit money\n",
    "# Withdraw money (ensure the balance doesn't go negative) Use an if-else structure to handle the user's choices.\n",
    "balance=1000\n",
    "print('Welcome to ATM!')\n",
    "\n",
    "choice=int(input('enter a options:'))\n",
    "if choice==1:\n",
    "    print('chek_balance :',balance)\n",
    "elif choice ==2:\n",
    "    deposit=int(input())\n",
    "    if deposit>0:\n",
    "            balance+=deposit\n",
    "            print('balance after credit:',balance)\n",
    "elif choice ==3:\n",
    "    withdra=int(input())\n",
    "    if balance>=withdra:\n",
    "        balance-=withdra\n",
    "        print('balance after debit:',balance)\n",
    "elif choice==4:\n",
    "    print('Thank you!')\n",
    "else:\n",
    "    print('Error')\n",
    "    "
   ]
  },
  {
   "cell_type": "code",
   "execution_count": 59,
   "id": "b0f5b9a8-51b4-4078-a3ea-22b761ee5487",
   "metadata": {},
   "outputs": [
    {
     "name": "stdin",
     "output_type": "stream",
     "text": [
      "ente months name: jan\n"
     ]
    },
    {
     "name": "stdout",
     "output_type": "stream",
     "text": [
      "days in jan=31\n"
     ]
    }
   ],
   "source": [
    "months =input('ente months name:')\n",
    "if months=='jan':\n",
    "    print('days in jan=31')"
   ]
  },
  {
   "cell_type": "code",
   "execution_count": 17,
   "id": "c051ce64-eb9d-4a04-bee4-41e70ccefb56",
   "metadata": {},
   "outputs": [
    {
     "name": "stdin",
     "output_type": "stream",
     "text": [
      "enter price: 200\n"
     ]
    },
    {
     "name": "stdout",
     "output_type": "stream",
     "text": [
      "200\n"
     ]
    }
   ],
   "source": [
    "# Q11 Write a program that calculates the discount for a product based on its price:\n",
    "# If price is greater than 1000, discount is 10%\n",
    "# If price is between 500 and 1000, discount is 5%\n",
    "# Otherwise, no discount\n",
    "# Print the final price after applying the discount\n",
    "price = int(input('enter price:'))\n",
    "if price>1000:\n",
    "    discount=price/100*10\n",
    "    price-=discount\n",
    "    print(price)\n",
    "elif 500<price<=1000:\n",
    "     discount=price/100*5\n",
    "     price-=discount\n",
    "     print(price)\n",
    "else:\n",
    "    print(price)\n",
    "    "
   ]
  },
  {
   "cell_type": "code",
   "execution_count": null,
   "id": "c4d39255-4cd9-4296-bc3f-e60496bff02d",
   "metadata": {},
   "outputs": [],
   "source": []
  }
 ],
 "metadata": {
  "kernelspec": {
   "display_name": "Python 3 (ipykernel)",
   "language": "python",
   "name": "python3"
  },
  "language_info": {
   "codemirror_mode": {
    "name": "ipython",
    "version": 3
   },
   "file_extension": ".py",
   "mimetype": "text/x-python",
   "name": "python",
   "nbconvert_exporter": "python",
   "pygments_lexer": "ipython3",
   "version": "3.12.4"
  }
 },
 "nbformat": 4,
 "nbformat_minor": 5
}
