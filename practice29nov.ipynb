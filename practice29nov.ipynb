{
 "cells": [
  {
   "cell_type": "code",
   "execution_count": 3,
   "id": "238a3c54-d560-4736-bb0c-fc39edee8baf",
   "metadata": {},
   "outputs": [
    {
     "name": "stdin",
     "output_type": "stream",
     "text": [
      "enter a number: 10\n"
     ]
    },
    {
     "name": "stdout",
     "output_type": "stream",
     "text": [
      "10\n",
      "9\n",
      "8\n",
      "7\n",
      "6\n",
      "5\n",
      "4\n",
      "3\n",
      "2\n",
      "1\n"
     ]
    }
   ],
   "source": [
    "# 2. Write a program to print all natural numbers in reverse (from n to 1). –\n",
    "# using while loop\n",
    "\n",
    "n=int(input('enter a number:'))\n",
    "while n>0:\n",
    "    print(n)\n",
    "    n-=1\n"
   ]
  },
  {
   "cell_type": "code",
   "execution_count": 9,
   "id": "ad0ef44a-e75c-479d-b9cc-ccdf9b1d2d1c",
   "metadata": {},
   "outputs": [
    {
     "name": "stdout",
     "output_type": "stream",
     "text": [
      "A\n",
      "B\n",
      "C\n",
      "D\n",
      "E\n",
      "F\n",
      "G\n",
      "H\n",
      "I\n",
      "J\n",
      "K\n",
      "L\n",
      "M\n",
      "N\n",
      "O\n",
      "P\n",
      "Q\n",
      "R\n",
      "S\n",
      "T\n",
      "U\n",
      "V\n",
      "W\n",
      "X\n",
      "Y\n",
      "Z\n"
     ]
    }
   ],
   "source": [
    "# 3. Write a program to print all alphabets from a to z. – using while loop\n",
    "x=65\n",
    "while 65<=x<=90:\n",
    "    print(chr(x))\n",
    "    x+=1"
   ]
  },
  {
   "cell_type": "code",
   "execution_count": 19,
   "id": "d3a03458-a820-43af-95bf-59e559cb74f8",
   "metadata": {},
   "outputs": [
    {
     "name": "stdout",
     "output_type": "stream",
     "text": [
      "a\n",
      "b\n",
      "c\n",
      "d\n",
      "e\n",
      "f\n",
      "g\n",
      "h\n",
      "i\n",
      "j\n",
      "k\n",
      "l\n",
      "m\n",
      "n\n",
      "o\n",
      "p\n",
      "q\n",
      "r\n",
      "s\n",
      "t\n",
      "u\n",
      "v\n",
      "w\n",
      "x\n",
      "y\n",
      "z\n"
     ]
    }
   ],
   "source": [
    "x=97\n",
    "while 97<=x<=122:\n",
    "    print(chr(x))\n",
    "    x+=1"
   ]
  },
  {
   "cell_type": "code",
   "execution_count": 1,
   "id": "e5bb292a-e789-4472-aeb4-e46a8e1e7660",
   "metadata": {},
   "outputs": [
    {
     "name": "stdout",
     "output_type": "stream",
     "text": [
      "2\n",
      "4\n",
      "6\n",
      "8\n",
      "10\n",
      "12\n",
      "14\n",
      "16\n",
      "18\n",
      "20\n",
      "22\n",
      "24\n",
      "26\n",
      "28\n",
      "30\n",
      "32\n",
      "34\n",
      "36\n",
      "38\n",
      "40\n",
      "42\n",
      "44\n",
      "46\n",
      "48\n",
      "50\n",
      "52\n",
      "54\n",
      "56\n",
      "58\n",
      "60\n",
      "62\n",
      "64\n",
      "66\n",
      "68\n",
      "70\n",
      "72\n",
      "74\n",
      "76\n",
      "78\n",
      "80\n",
      "82\n",
      "84\n",
      "86\n",
      "88\n",
      "90\n",
      "92\n",
      "94\n",
      "96\n",
      "98\n",
      "100\n"
     ]
    }
   ],
   "source": [
    "# 4. Write a program to print all even numbers between 1 to 100. – using\n",
    "# while loop\n",
    "num=1\n",
    "while num<=100:\n",
    "    if num%2==0:\n",
    "        print(num)\n",
    "    num+=1\n",
    "    "
   ]
  },
  {
   "cell_type": "code",
   "execution_count": null,
   "id": "34b85ee4-9c88-4e02-b862-2179c3ec5b81",
   "metadata": {},
   "outputs": [],
   "source": [
    "# 5. Write a program to find the sum of all odd numbers between 1 to n.\n",
    "num =int(input())\n",
    "sum=0\n",
    "for i in  range(1,num):\n",
    "    \n",
    "    if i % 2!=0:\n",
    "        sum+=i \n",
    "print(sum)\n",
    "        "
   ]
  },
  {
   "cell_type": "code",
   "execution_count": null,
   "id": "103d881b-467b-4b59-9256-99e86a004efc",
   "metadata": {},
   "outputs": [],
   "source": [
    "#6\n",
    "num= int(input())\n",
    "c=0\n",
    "while num>0:\n",
    "    num=num//10    \n",
    "    c+=1\n",
    "c\n",
    "         \n",
    "    \n",
    "    "
   ]
  },
  {
   "cell_type": "code",
   "execution_count": null,
   "id": "53b7ba21-2d6d-47c4-bc2e-df5daf7215da",
   "metadata": {},
   "outputs": [],
   "source": [
    "#  7. Write a program to calculate the sum of digits of a number.\n",
    "num = int(input())  # Take input from the user\n",
    "sum_digit = 0\n",
    "\n",
    "while num > 0:\n",
    "    sum_digit += num % 10  # Get the last digit and add it to sum_digit\n",
    "    num //= 10  # Remove the last digit\n",
    "\n",
    "print(sum_digit)  # Print the sum of digits\n",
    "\n",
    "    \n",
    "    \n",
    "    \n",
    "    \n",
    "    \n",
    "     \n",
    "\n",
    "\n"
   ]
  },
  {
   "cell_type": "code",
   "execution_count": 7,
   "id": "a7f32f18-62b9-4602-bf9b-36a87a5364be",
   "metadata": {},
   "outputs": [
    {
     "name": "stdin",
     "output_type": "stream",
     "text": [
      "Enter a number:  123\n"
     ]
    },
    {
     "name": "stdout",
     "output_type": "stream",
     "text": [
      "First digit: 1\n",
      "Last digit: 3\n"
     ]
    }
   ],
   "source": [
    "# 8. Write a program to find the first and last digit of a number.\n",
    "num = int(input(\"Enter a number: \"))\n",
    "last_digit = num%10\n",
    "while num>=10:\n",
    "    num//=10\n",
    "first_digit=num\n",
    "print(\"First digit:\", first_digit)\n",
    "print(\"Last digit:\", last_digit)\n",
    "   \n",
    "              \n",
    " \n",
    "    \n",
    "    \n",
    "\n"
   ]
  },
  {
   "cell_type": "code",
   "execution_count": 11,
   "id": "19638bf9-a91a-43e2-b399-365e988ce767",
   "metadata": {},
   "outputs": [
    {
     "name": "stdin",
     "output_type": "stream",
     "text": [
      "Enter a number:  789\n"
     ]
    },
    {
     "name": "stdout",
     "output_type": "stream",
     "text": [
      "16\n"
     ]
    }
   ],
   "source": [
    "# 9. Write a program to find the sum of first and last digit of a number.\n",
    "num = int(input(\"Enter a number: \"))\n",
    "last_digit = num%10\n",
    "while num>=10:\n",
    "    num//=10\n",
    "first_digit=num\n",
    "print(first_digit +last_digit)"
   ]
  },
  {
   "cell_type": "code",
   "execution_count": 1,
   "id": "fe29e59c-c5ab-4820-a9e3-2ee317aa15fd",
   "metadata": {},
   "outputs": [
    {
     "name": "stdin",
     "output_type": "stream",
     "text": [
      " 6\n"
     ]
    },
    {
     "name": "stdout",
     "output_type": "stream",
     "text": [
      "6 5 4 3 2 1 "
     ]
    }
   ],
   "source": [
    "# 10.Write a program to enter a number and print its reverse.\n",
    "num= int(input())\n",
    "while num>0:\n",
    "    print(num,end=' ')\n",
    "    num-=1"
   ]
  },
  {
   "cell_type": "code",
   "execution_count": 13,
   "id": "dff4d2b1-b89c-4693-814d-8347a0afb36d",
   "metadata": {},
   "outputs": [
    {
     "name": "stdin",
     "output_type": "stream",
     "text": [
      " 2\n",
      " 3\n"
     ]
    },
    {
     "name": "stdout",
     "output_type": "stream",
     "text": [
      "8\n"
     ]
    }
   ],
   "source": [
    "# 11.Write a program to find the power of a number using for loop.\n",
    "base= int(input())\n",
    "exponent=int(input())\n",
    "result=1\n",
    "for i in range (exponent):\n",
    "    result*=base\n",
    "print(result)\n",
    "   \n",
    "  \n",
    "\n"
   ]
  },
  {
   "cell_type": "code",
   "execution_count": 19,
   "id": "58ce7658-0860-4726-a8a0-17975644470e",
   "metadata": {},
   "outputs": [
    {
     "name": "stdin",
     "output_type": "stream",
     "text": [
      " 9\n"
     ]
    },
    {
     "name": "stdout",
     "output_type": "stream",
     "text": [
      "1\n",
      "3\n",
      "9\n"
     ]
    }
   ],
   "source": [
    "# 12.Write a program to find all factors of a number.\n",
    "num = int(input())\n",
    "for i in range(1,num+1):\n",
    "    if num%i==0:\n",
    "        print(i)\n",
    "    \n"
   ]
  },
  {
   "cell_type": "code",
   "execution_count": 11,
   "id": "5041b6bd-4392-46cf-b97e-e8d9a53a516d",
   "metadata": {},
   "outputs": [
    {
     "name": "stdin",
     "output_type": "stream",
     "text": [
      " 5\n"
     ]
    },
    {
     "data": {
      "text/plain": [
       "120"
      ]
     },
     "execution_count": 11,
     "metadata": {},
     "output_type": "execute_result"
    }
   ],
   "source": [
    "# 13.Write a program to calculate the factorial of a number.\n",
    "num = int(input())\n",
    "fact=1\n",
    "for i in range(1,num+1):\n",
    "    fact*=i\n",
    "fact"
   ]
  },
  {
   "cell_type": "code",
   "execution_count": 5,
   "id": "90324c12-81af-4814-a5a5-97d30322394b",
   "metadata": {},
   "outputs": [
    {
     "name": "stdin",
     "output_type": "stream",
     "text": [
      "Enter the first number:  3\n",
      "Enter the second number:  7\n"
     ]
    },
    {
     "name": "stdout",
     "output_type": "stream",
     "text": [
      "The LCM of 3 and 7 is 21\n"
     ]
    }
   ],
   "source": [
    "# 14.Write a program to find LCM of two numbers.\n",
    "# Input two numbers\n",
    "num1 = int(input(\"Enter the first number: \"))\n",
    "num2 = int(input(\"Enter the second number: \"))\n",
    "\n",
    "# Start with the maximum of the two numbers\n",
    "lcm = max(num1, num2)\n",
    "\n",
    "# Loop until we find a number divisible by both\n",
    "while True:\n",
    "    if lcm % num1 == 0 and lcm % num2 == 0:  # Check if divisible by both\n",
    "        break  # LCM found, exit loop\n",
    "    lcm += 1  # Increment LCM candidate\n",
    "\n",
    "# Print the result\n",
    "print(f\"The LCM of {num1} and {num2} is {lcm}\")\n",
    "\n",
    "\n"
   ]
  },
  {
   "cell_type": "code",
   "execution_count": 11,
   "id": "d19ed501-369a-4517-a498-e13ae52882cc",
   "metadata": {},
   "outputs": [
    {
     "name": "stdin",
     "output_type": "stream",
     "text": [
      "enter a number: 17\n"
     ]
    },
    {
     "name": "stdout",
     "output_type": "stream",
     "text": [
      "it is a prime number\n"
     ]
    }
   ],
   "source": [
    "# 15.Write a program to check whether a number is Prime number or not.\n",
    "num = int(input('enter a number:'))\n",
    "# if num ==1:\n",
    "    # print('it is not a prime number')\n",
    "if num >1:\n",
    "    for i in range(2,num):\n",
    "        if num%i==0:\n",
    "            print('it is not a prime number')\n",
    "            break\n",
    "    else:\n",
    "        print('it is a prime number')\n",
    "\n"
   ]
  },
  {
   "cell_type": "code",
   "execution_count": 45,
   "id": "ccf1f12c-85eb-483d-99b2-c81f1c3d0abe",
   "metadata": {},
   "outputs": [
    {
     "name": "stdin",
     "output_type": "stream",
     "text": [
      "Enter a number: 12\n"
     ]
    },
    {
     "name": "stdout",
     "output_type": "stream",
     "text": [
      "2 3 5 7 11 "
     ]
    }
   ],
   "source": [
    "# 16.Write a program to print all Prime numbers between 1 to n\n",
    "\n",
    "num = int(input('Enter a number:'))\n",
    "for i in range(2,num+1):\n",
    "    is_prime =True \n",
    "    for j in range(2,int(i**0.5)+1):\n",
    "        if i % j==0:\n",
    "            is_prime = False\n",
    "            break\n",
    "    if is_prime:\n",
    "        print(i,end=\" \")\n",
    "\n",
    "\n",
    "    \n",
    "\n",
    "    \n",
    "    "
   ]
  },
  {
   "cell_type": "code",
   "execution_count": 47,
   "id": "a94ba2a1-c2fe-4c6e-a370-fb141fa94987",
   "metadata": {},
   "outputs": [
    {
     "name": "stdin",
     "output_type": "stream",
     "text": [
      "enter a number: 371\n"
     ]
    },
    {
     "name": "stdout",
     "output_type": "stream",
     "text": [
      "armstrong\n"
     ]
    }
   ],
   "source": [
    "num  = int(input('enter a number:'))\n",
    "temp=num\n",
    "sum_code=0\n",
    "\n",
    "while num>0:\n",
    "    rem=num%10\n",
    "    sum_code=sum_code+rem**3\n",
    "    num=num//10\n",
    "if temp == sum_code:\n",
    "    print('armstrong')\n",
    "else:\n",
    "    print('no')\n",
    "    \n"
   ]
  },
  {
   "cell_type": "code",
   "execution_count": 5,
   "id": "79b24334-d732-4984-83db-f31eaf31b3fd",
   "metadata": {},
   "outputs": [
    {
     "name": "stdin",
     "output_type": "stream",
     "text": [
      "enter a  number: 123\n"
     ]
    },
    {
     "name": "stdout",
     "output_type": "stream",
     "text": [
      "not\n"
     ]
    }
   ],
   "source": [
    "# 19.Write a program to check whether a number is Strong number or not\n",
    "# a. Strong number is a special number whose sum of factorial digits is\n",
    "# equal to the original number.\n",
    "# For example: 145 is a strong number. Since, 1! + 4! + 5! = 145\n",
    "num = int(input('enter a  number:'))\n",
    "temp = num\n",
    "sum_fact=0\n",
    "while num>0:\n",
    "    rem = num%10 #Abstract last digit\n",
    "    fact=1\n",
    "    for i in range(1,rem+1):\n",
    "        fact=fact*i\n",
    "    sum_fact+=fact\n",
    "    num//=10\n",
    "if temp == sum_fact:\n",
    "    print('strong number')\n",
    "else:\n",
    "    print('not')\n",
    "\n",
    "   \n",
    "    \n",
    "    \n",
    "    \n",
    "    \n",
    "    \n",
    "    \n",
    "    \n",
    "    \n"
   ]
  },
  {
   "cell_type": "code",
   "execution_count": 19,
   "id": "27c6d609-e94b-435e-b8e6-1b35cf9ec249",
   "metadata": {},
   "outputs": [
    {
     "name": "stdin",
     "output_type": "stream",
     "text": [
      "enter a number: 7\n"
     ]
    },
    {
     "name": "stdout",
     "output_type": "stream",
     "text": [
      "no\n"
     ]
    }
   ],
   "source": [
    "# 20.Write a program to check whether a number is perfect number or not\n",
    "# Sum of its proper divisors = 1 + 2 + 3 = 6.\n",
    "# Hence 6 is a perfect number.\n",
    "num = int(input('enter a number:'))\n",
    "temp =num\n",
    "sum_of_num=0\n",
    "for i in range(1,num):\n",
    "    if num%i==0:\n",
    "        sum_of_num+=i\n",
    "if temp == sum_of_num:\n",
    "    print('perfect number')\n",
    "else:\n",
    "    print('no')\n",
    "        \n",
    "        \n",
    "    "
   ]
  },
  {
   "cell_type": "code",
   "execution_count": null,
   "id": "64644d0d-2feb-4dc4-9715-d9a104b9f3ef",
   "metadata": {},
   "outputs": [],
   "source": [
    "# 21.Write a program to print fibonacci series upto n terms\n",
    "num = int(input('enter a number:'))\n",
    "a,b=0,1\n",
    "count=0\n",
    "while num>0:\n",
    "    print(a,e)\n",
    "    a,b=b,a+b\n",
    "    count+=1\n",
    "\n"
   ]
  },
  {
   "cell_type": "code",
   "execution_count": null,
   "id": "925447d9-0ef8-4425-8715-7c00abb24a1f",
   "metadata": {},
   "outputs": [],
   "source": []
  }
 ],
 "metadata": {
  "kernelspec": {
   "display_name": "Python 3 (ipykernel)",
   "language": "python",
   "name": "python3"
  },
  "language_info": {
   "codemirror_mode": {
    "name": "ipython",
    "version": 3
   },
   "file_extension": ".py",
   "mimetype": "text/x-python",
   "name": "python",
   "nbconvert_exporter": "python",
   "pygments_lexer": "ipython3",
   "version": "3.12.4"
  }
 },
 "nbformat": 4,
 "nbformat_minor": 5
}
