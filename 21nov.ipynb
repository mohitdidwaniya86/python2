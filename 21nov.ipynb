{
 "cells": [
  {
   "cell_type": "code",
   "execution_count": 7,
   "id": "d52fb074-4834-4380-8470-d7597220bb46",
   "metadata": {},
   "outputs": [
    {
     "name": "stdout",
     "output_type": "stream",
     "text": [
      "500 deposit, New balance: 1500\n",
      "300 withdrawn, Remaining balance:1200\n",
      "Account balance for mohit:1200\n"
     ]
    }
   ],
   "source": [
    "class BankAccount:\n",
    "    def __init__(self,holder_name,balance=0):\n",
    "        self.holder_name=holder_name\n",
    "        self.balance = balance\n",
    "    def deposit(self,amount):\n",
    "        self.balance += amount\n",
    "        print(f\"{amount} deposit, New balance: {self.balance}\")\n",
    "    def withdraw (self,amount):\n",
    "        if amount<= self.balance:\n",
    "            self.balance-=amount # self.balance=self.balamce-amount\n",
    "            print(f\"{amount} withdrawn, Remaining balance:{self.balance}\")\n",
    "        else:\n",
    "            print('Insufficient funds!')\n",
    "    def Check_balance(self):\n",
    "        return f\"Account balance for {self.holder_name}:{self.balance}\"\n",
    "account =BankAccount('mohit',1000)\n",
    "account.deposit(500)\n",
    "account.withdraw(300)\n",
    "print(account.Check_balance())"
   ]
  },
  {
   "cell_type": "code",
   "execution_count": 9,
   "id": "fbf38b9f-b0d9-4995-adc2-d0ffcbdeecab",
   "metadata": {},
   "outputs": [
    {
     "name": "stdout",
     "output_type": "stream",
     "text": [
      "name:raj\n",
      "age:16\n",
      "marks:32\n"
     ]
    },
    {
     "data": {
      "text/plain": [
       "'raj fail'"
      ]
     },
     "execution_count": 9,
     "metadata": {},
     "output_type": "execute_result"
    }
   ],
   "source": [
    "class student:\n",
    "    def __init__(self,name,age,marks):\n",
    "        self.name=name\n",
    "        self.age=age\n",
    "        self.marks=marks\n",
    "    def display_detail(self):\n",
    "        print(f\"name:{self.name}\")\n",
    "        print(f\"age:{self.age}\")\n",
    "        print(f\"marks:{self.marks}\")\n",
    "    \n",
    "    def result(self):\n",
    "        if self.marks>=40:\n",
    "            print(f\"{self.name},passed\")\n",
    "        else:\n",
    "            return f\"{self.name} fail\"\n",
    "s1=student('raj',16,32)\n",
    "s1.display_detail()\n",
    "\n",
    "s1.result()\n",
    "\n",
    "    "
   ]
  },
  {
   "cell_type": "code",
   "execution_count": 33,
   "id": "652ad22f-7bbd-4aa9-9fe2-5d07f7ed3600",
   "metadata": {},
   "outputs": [
    {
     "name": "stdout",
     "output_type": "stream",
     "text": [
      "name:mohit\n",
      "Id:12344\n",
      "salary30000\n",
      "annual_salary 360000\n"
     ]
    }
   ],
   "source": [
    "class Employee:\n",
    "    def __init__(self,name,Id,salary):\n",
    "        self.name=name\n",
    "        self.Id=Id\n",
    "        self.salary=salary\n",
    "    def display_detail(self):\n",
    "        print (f\"name:{self.name}\")\n",
    "        print(f\"Id:{self.Id}\")\n",
    "        print(f\"salary{self.salary}\")\n",
    "    def anual_salary(self):\n",
    "        self.anual_salary=self.salary*12\n",
    "        print('annual_salary',self.anual_salary)\n",
    "s1=Employee('mohit',12344,30000)\n",
    "s1.display_detail()\n",
    "s1.anual_salary()\n",
    "        \n",
    "        "
   ]
  },
  {
   "cell_type": "code",
   "execution_count": 51,
   "id": "aac5ecb8-afd5-4908-af5a-3e7a96440284",
   "metadata": {},
   "outputs": [
    {
     "name": "stdout",
     "output_type": "stream",
     "text": [
      "title:think and grow rich\n",
      "author:Napoleon hill\n"
     ]
    }
   ],
   "source": [
    "class Library:\n",
    "    def __init__(self,title,author):\n",
    "        self.title = title\n",
    "        self.author =author\n",
    "        self.is_available =True\n",
    "    def borrow(self):\n",
    "        if self.is_available:\n",
    "            self.is_available=False\n",
    "        else:\n",
    "            self.is_available=True\n",
    "    def display_detail(self):\n",
    "        print (f\"title:{self.title}\")\n",
    "        print(f\"author:{self.author}\")\n",
    "        # print(f\"available{self.is_available}\")\n",
    "        \n",
    "book=Library('think and grow rich','Napoleon hill')\n",
    "book.display_detail()\n",
    "book.borrow()"
   ]
  },
  {
   "cell_type": "code",
   "execution_count": 13,
   "id": "ef668cf8-2833-46c7-9afd-3220c1ada0dc",
   "metadata": {},
   "outputs": [
    {
     "name": "stdout",
     "output_type": "stream",
     "text": [
      "The Alchemist by Paulo Coelho is available.\n",
      "The Alchemist by Paulo Coelho is not available.\n",
      "harry potter by J.K. Rowling is available.\n",
      "You have borrowed harry potter by J.K. Rowling.\n",
      "You have returned harry potter by J.K. Rowling.\n"
     ]
    }
   ],
   "source": [
    "class Book:\n",
    "  def __init__(self, title, author, availability=True):\n",
    "    self.title = title\n",
    "    self.author = author\n",
    "    self.availability = availability\n",
    "\n",
    "  def check_availability(self):\n",
    "    if self.availability:\n",
    "      print(f\"{self.title} by {self.author} is available.\")\n",
    "    else:\n",
    "      print(f\"{self.title} by {self.author} is not available.\")\n",
    "\n",
    "  def borrow_book(self):\n",
    "    if self.availability:\n",
    "      self.availability = False\n",
    "      print(f\"You have borrowed {self.title} by {self.author}.\")\n",
    "\n",
    "    else:\n",
    "      print(f\"{self.title} by {self.author} is not available for borrowing.\")\n",
    "  \n",
    "  def return_book(self):\n",
    "    if not self.availability:\n",
    "      self.availability = True\n",
    "      print(f\"You have returned {self.title} by {self.author}.\")\n",
    "\n",
    "book=Book(\"The Alchemist\", \"Paulo Coelho\")\n",
    "book.check_availability()\n",
    "book.availability=False\n",
    "book.check_availability()\n",
    "\n",
    "book1=Book(\"harry potter\", \"J.K. Rowling\")\n",
    "book1.check_availability()\n",
    "book1.borrow_book()\n",
    "book1.return_book()"
   ]
  },
  {
   "cell_type": "code",
   "execution_count": 25,
   "id": "8c5283ef-4170-46f1-9961-89fe0fdb056e",
   "metadata": {},
   "outputs": [
    {
     "name": "stdout",
     "output_type": "stream",
     "text": [
      "450.0\n",
      "balance is low:4050.0\n"
     ]
    }
   ],
   "source": [
    "class bankaccount:\n",
    "    def __init__(self, holder_name,balance):\n",
    "        self.holder_name= holder_name\n",
    "        self.balance= balance\n",
    "    def minimum(self):\n",
    "        if self.balance<5000:\n",
    "            penalty = self.balance/100*10\n",
    "            self.balance =self.balance-penalty\n",
    "            print(f\"{penalty}\")\n",
    "            print(f\"balance is low:{self.balance}\")\n",
    "        else:\n",
    "            print(f\" minimum balance is present\")\n",
    "            print(f\"{self.balance}\")\n",
    "emp=bankaccount('mohit',4500)\n",
    "emp.minimum()"
   ]
  },
  {
   "cell_type": "code",
   "execution_count": 39,
   "id": "da5aa43f-b491-4522-9e88-cdcc678f9ec7",
   "metadata": {},
   "outputs": [
    {
     "name": "stdout",
     "output_type": "stream",
     "text": [
      "name:king\n",
      "age:22\n",
      "marks:34\n",
      "king,failed!\n"
     ]
    }
   ],
   "source": [
    "class student():\n",
    "    def __init__(self,name,age,marks):\n",
    "        self.name = name\n",
    "        self.age = age\n",
    "        self.marks=marks\n",
    "    def display_detail(self):\n",
    "        print(f\"name:{self.name}\")\n",
    "        print(f\"age:{self.age}\")\n",
    "        print(f\"marks:{self.marks}\")\n",
    "    def result(self):\n",
    "        if self.marks>=36:\n",
    "            print(f\"{self.name},passed\")\n",
    "        else:\n",
    "            print(f\"{self.name},failed!\")\n",
    "s1=student('king',22,34)\n",
    "s1.display_detail()\n",
    "s1.result()\n",
    "\n",
    "\n",
    "        "
   ]
  },
  {
   "cell_type": "code",
   "execution_count": 63,
   "id": "cbc39a19-e0c9-4034-8c85-6d267e7f6e56",
   "metadata": {},
   "outputs": [
    {
     "name": "stdout",
     "output_type": "stream",
     "text": [
      "name:rohit\n",
      "Id:231\n",
      "salary:15000\n",
      "annual_salary: 180000\n"
     ]
    }
   ],
   "source": [
    "class employee:\n",
    "    def __init__(self,name,Id,salary):\n",
    "        self.name= name\n",
    "        self.Id= Id\n",
    "        self.salary= salary\n",
    "    def display_details(self):\n",
    "        print(f\"name:{self.name}\")\n",
    "        print(f\"Id:{self.Id}\")\n",
    "        print(f\"salary:{self.salary}\")\n",
    "    def annual_salary(self):\n",
    "        self.annual_salary = self.salary*12\n",
    "        print(\"annual_salary:\" ,self.annual_salary)\n",
    "emp=employee('rohit', 231,15000)\n",
    "emp.display_details()\n",
    "emp.annual_salary()"
   ]
  },
  {
   "cell_type": "code",
   "execution_count": null,
   "id": "9bb891fc-26ae-4067-a8c7-6144f4d35876",
   "metadata": {},
   "outputs": [],
   "source": []
  }
 ],
 "metadata": {
  "kernelspec": {
   "display_name": "Python 3 (ipykernel)",
   "language": "python",
   "name": "python3"
  },
  "language_info": {
   "codemirror_mode": {
    "name": "ipython",
    "version": 3
   },
   "file_extension": ".py",
   "mimetype": "text/x-python",
   "name": "python",
   "nbconvert_exporter": "python",
   "pygments_lexer": "ipython3",
   "version": "3.12.4"
  }
 },
 "nbformat": 4,
 "nbformat_minor": 5
}
