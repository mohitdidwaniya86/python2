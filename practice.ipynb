{
 "cells": [
  {
   "cell_type": "code",
   "execution_count": 3,
   "id": "61601176-b15c-46c5-8b50-2189cf45728e",
   "metadata": {},
   "outputs": [
    {
     "name": "stdout",
     "output_type": "stream",
     "text": [
      "0\n",
      "1\n",
      "2\n",
      "3\n",
      "4\n"
     ]
    }
   ],
   "source": [
    "#1. Print all elements in a list\n",
    "#Write a Python program to print each element in a list using a for loop.\n",
    "my=[1,23,3,4,5]\n",
    " for i in my:\n",
    "     print(i)\n",
    "\n"
   ]
  },
  {
   "cell_type": "code",
   "execution_count": 16,
   "id": "eb9089cf-4854-4401-923a-28e8fdf11157",
   "metadata": {},
   "outputs": [
    {
     "name": "stdout",
     "output_type": "stream",
     "text": [
      "1\n",
      "3\n",
      "6\n",
      "10\n",
      "10\n"
     ]
    }
   ],
   "source": [
    "#2. Sum of all elements in a list\n",
    "#Write a Python program to calculate the sum of all elements in a list using a loop.\n",
    "sum=0\n",
    "list=[1,2,3,4]\n",
    "for i in list:\n",
    "    sum+=i\n",
    "    print(sum)\n",
    "print(sum) "
   ]
  },
  {
   "cell_type": "code",
   "execution_count": 20,
   "id": "464553ca-b44e-46f1-8178-eaf43586bb4d",
   "metadata": {},
   "outputs": [
    {
     "name": "stdout",
     "output_type": "stream",
     "text": [
      "1\n",
      "2\n",
      "6\n",
      "24\n",
      "24\n"
     ]
    }
   ],
   "source": [
    "\n",
    "#3. Product of all elements in a list\n",
    "#Write a Python program to calculate the product of all elements in a list using a loop.\n",
    "mul=1\n",
    "list=[1,2,3,4]\n",
    "for i in list:\n",
    "    mul*=i\n",
    "    print(mul)\n",
    "print(mul) \n",
    "\n"
   ]
  },
  {
   "cell_type": "code",
   "execution_count": 29,
   "id": "1214047f-2278-41ac-b9a6-ec8fd4118d18",
   "metadata": {},
   "outputs": [
    {
     "name": "stdout",
     "output_type": "stream",
     "text": [
      "1\n",
      "2\n",
      "44\n",
      "not match\n",
      "55\n",
      "not match\n",
      "not match\n",
      "55\n"
     ]
    }
   ],
   "source": [
    "#4. Find the largest element in a list\n",
    "#Write a Python program to find the largest number in a list using a loop.\n",
    "x=[1,2,44,2,55,1,22]\n",
    "max=0\n",
    "for i in x:\n",
    "    if i>max:\n",
    "        max=i\n",
    "        print(max)\n",
    "    else:\n",
    "        print('not match')\n",
    "\n",
    "print(max)"
   ]
  },
  {
   "cell_type": "code",
   "execution_count": 48,
   "id": "07bc8742-b021-4925-ad2b-8f02461dd5a4",
   "metadata": {},
   "outputs": [
    {
     "name": "stdout",
     "output_type": "stream",
     "text": [
      "1\n"
     ]
    }
   ],
   "source": [
    "#5. Find the smallest element in a list\n",
    "#Write a Python program to find the smallest number in a list using a loop.\n",
    "y=[1,22,44,2,3,4,99,1]\n",
    "min=y[0]\n",
    "for i in y:\n",
    "    if i<min:\n",
    "        min=i\n",
    "print(min)\n",
    "        \n",
    "    \n",
    "    \n",
    "        "
   ]
  },
  {
   "cell_type": "code",
   "execution_count": 69,
   "id": "37ad1b0f-aa86-4ce9-a472-3d2746f9be80",
   "metadata": {},
   "outputs": [
    {
     "name": "stdout",
     "output_type": "stream",
     "text": [
      "7\n"
     ]
    }
   ],
   "source": [
    "#6. Count occurrences of an element in a list\n",
    "#Write a Python program to count how many times a specific element appears in a list.\n",
    "li=[2,2,3,44,55,67,77]\n",
    "count=0\n",
    "for i in li:\n",
    "    count=count+1\n",
    "print(count)\n",
    "    "
   ]
  },
  {
   "cell_type": "code",
   "execution_count": 100,
   "id": "9c4c1bc4-f6ea-4be3-a45f-108703bb5fd7",
   "metadata": {},
   "outputs": [
    {
     "name": "stdout",
     "output_type": "stream",
     "text": [
      "True 55\n"
     ]
    }
   ],
   "source": [
    "\n",
    "#7. Check if an element exists in a list\n",
    "#Write a Python program to check if a specific element exists in a list using a loop.\n",
    "aa=[1,233,55,66,77,99]\n",
    "p=55\n",
    "\n",
    "for i in aa:\n",
    "    if p in aa:\n",
    "        print(True,p)\n",
    "        break\n",
    " \n",
    "    # else:\n",
    "    #     print(False)\n",
    "    # print()  \n",
    "    \n"
   ]
  },
  {
   "cell_type": "code",
   "execution_count": 48,
   "id": "c05845a1-c89d-4495-9205-c4580140af2d",
   "metadata": {},
   "outputs": [
    {
     "name": "stdout",
     "output_type": "stream",
     "text": [
      "[6, 5, 3, 2, 1]\n"
     ]
    }
   ],
   "source": [
    "#8. Reverse a list using a loop\n",
    "#Write a Python program to reverse a list using a loop (without using the reverse() method).\n",
    "xyz=[1,2,3,5,6]\n",
    "reverse=[]\n",
    "for i in range(len(xyz)-1,-1,-1):\n",
    "    reverse.append(xyz[i])\n",
    "\n",
    "print(reverse)    \n",
    " \n",
    "   \n",
    "    \n",
    "    \n",
    "\n"
   ]
  },
  {
   "cell_type": "code",
   "execution_count": 70,
   "id": "9aa83964-94e4-485a-b742-79287a69ae76",
   "metadata": {},
   "outputs": [
    {
     "name": "stdout",
     "output_type": "stream",
     "text": [
      "[1, 4, 9, 16]\n"
     ]
    }
   ],
   "source": [
    "#9. Create a list of squares\n",
    "#Write a Python program to create a new list where each element is the square of an element from the original list.\n",
    "li1=[1,2,3,4]\n",
    "new=[]\n",
    "for i in li1:\n",
    "\n",
    "    new.append(i**2)\n",
    "\n",
    "print(new)    \n",
    "    \n",
    "    \n"
   ]
  },
  {
   "cell_type": "code",
   "execution_count": 90,
   "id": "c9a827c2-e430-491c-8c05-f3d3d13c106b",
   "metadata": {},
   "outputs": [
    {
     "name": "stdout",
     "output_type": "stream",
     "text": [
      "[1, 2, 3, 4, 5, 0]\n"
     ]
    }
   ],
   "source": [
    "#10. Remove duplicates from a list\n",
    "#Write a Python program to remove duplicates from a list using a loop.\n",
    "\n",
    "xx=[1,2,3,4,5,2,1,0,0]\n",
    "update=[]\n",
    "for i in xx:\n",
    "    if i not in update:\n",
    "        update.append(i)\n",
    "print(update)      \n",
    "  \n",
    "        \n",
    "   \n",
    "       \n",
    "   \n",
    "    \n"
   ]
  },
  {
   "cell_type": "code",
   "execution_count": 97,
   "id": "eaed63d2-81d1-4515-900b-09a23ddfb168",
   "metadata": {},
   "outputs": [
    {
     "name": "stdout",
     "output_type": "stream",
     "text": [
      "12\n"
     ]
    }
   ],
   "source": [
    "#11. Sum of even numbers in a list\n",
    "#Write a Python program to calculate the sum of all even numbers in a list.\n",
    "li2=[1,2,3,4,5,6]\n",
    "sum=0\n",
    "for i in li2:\n",
    "    if i%2==0:\n",
    "        sum+=i\n",
    "print(sum)  \n",
    "        "
   ]
  },
  {
   "cell_type": "code",
   "execution_count": 102,
   "id": "1620ebad-630b-46a4-a6c6-ccce1015c07a",
   "metadata": {},
   "outputs": [
    {
     "name": "stdout",
     "output_type": "stream",
     "text": [
      "[1, 3, 5, 5, 3, 7]\n"
     ]
    }
   ],
   "source": [
    "#12. Find odd numbers in a list\n",
    "#Write a Python program to create a new list that contains only the odd numbers from the original list.\n",
    "old=[1,2,3,4,5,5,6,6,3,7]\n",
    "new=[]\n",
    "for i in old:\n",
    "    if i%2!=0:\n",
    "        new.append(i)\n",
    "print(new)      "
   ]
  },
  {
   "cell_type": "code",
   "execution_count": null,
   "id": "5c7cb4f8-77a9-4cc7-8060-dd925a032c0e",
   "metadata": {},
   "outputs": [],
   "source": [
    "#13. Sort a list in ascending order (manual implementation)\n",
    "#Write a Python program to sort a list in ascending order using a loop (without using the sort() method).\n",
    "leo=[1,2,55,3,12,1,78,9]\n",
    "order=[]\n",
    "max[0]=1\n",
    "for i in leo:\n",
    "    \n",
    "    "
   ]
  }
 ],
 "metadata": {
  "kernelspec": {
   "display_name": "Python 3 (ipykernel)",
   "language": "python",
   "name": "python3"
  },
  "language_info": {
   "codemirror_mode": {
    "name": "ipython",
    "version": 3
   },
   "file_extension": ".py",
   "mimetype": "text/x-python",
   "name": "python",
   "nbconvert_exporter": "python",
   "pygments_lexer": "ipython3",
   "version": "3.12.4"
  }
 },
 "nbformat": 4,
 "nbformat_minor": 5
}
