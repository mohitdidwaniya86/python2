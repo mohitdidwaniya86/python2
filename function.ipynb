{
 "cells": [
  {
   "cell_type": "code",
   "execution_count": 6,
   "id": "b5e03049-714f-4d76-b384-0cdc5d9ff0c4",
   "metadata": {},
   "outputs": [
    {
     "name": "stdout",
     "output_type": "stream",
     "text": [
      " befotre function 10 20\n",
      "after function 10 20\n"
     ]
    }
   ],
   "source": [
    "x=10\n",
    "y=20\n",
    "def swapNumber(x,y):\n",
    "    temp=x\n",
    "    x=y\n",
    "    y=temp\n",
    "print(' befotre function',x,y)\n",
    "swapNumber(x,y)\n",
    "print('after function',x,y)"
   ]
  },
  {
   "cell_type": "code",
   "execution_count": 9,
   "id": "d2c876bf-30d9-4026-a096-1c68dc8ec36e",
   "metadata": {},
   "outputs": [
    {
     "name": "stdout",
     "output_type": "stream",
     "text": [
      "li [10, 20]\n",
      "aftetr change in function [100, 20]\n",
      "after change outside fun [100, 20]\n"
     ]
    }
   ],
   "source": [
    "mylist=[10,20]\n",
    "def fun(list1):\n",
    "    print('li',list1)\n",
    "    list1[0]=100\n",
    "    print('aftetr change in function',list1)\n",
    "\n",
    "fun(mylist)\n",
    "print('after change outside fun',mylist)\n",
    "# mutable item change in local than also change in global"
   ]
  },
  {
   "cell_type": "code",
   "execution_count": 11,
   "id": "376b675b-d844-4256-95d3-6e3568d494b6",
   "metadata": {},
   "outputs": [
    {
     "name": "stdout",
     "output_type": "stream",
     "text": [
      "12.0\n",
      "True\n"
     ]
    }
   ],
   "source": [
    "def addno(n):\n",
    "    print(n*1.5)\n",
    "    return True\n",
    "\n",
    "out=addno(8)\n",
    "print(out)"
   ]
  },
  {
   "cell_type": "code",
   "execution_count": 15,
   "id": "a87fbf73-b886-434c-b376-0e6f2eaaf9f2",
   "metadata": {},
   "outputs": [
    {
     "data": {
      "text/plain": [
       "True"
      ]
     },
     "execution_count": 15,
     "metadata": {},
     "output_type": "execute_result"
    }
   ],
   "source": [
    "def num(n):\n",
    "    if n%2==0:\n",
    "        return True\n",
    "    else:\n",
    "        return False\n",
    "num(78)"
   ]
  },
  {
   "cell_type": "code",
   "execution_count": 27,
   "id": "6780e48c-cf1c-4d9e-b344-28beee55cbb9",
   "metadata": {},
   "outputs": [
    {
     "name": "stdout",
     "output_type": "stream",
     "text": [
      "<function func at 0x0000027638AFE020>\n",
      "<function func at 0x0000027638AFE020>\n",
      "hello\n",
      "hello\n"
     ]
    }
   ],
   "source": [
    "#first class function\n",
    "def func():\n",
    "    print('hello')\n",
    "    \n",
    "print(func)\n",
    "out=func\n",
    "print(out)\n",
    "out()\n",
    "func()"
   ]
  },
  {
   "cell_type": "code",
   "execution_count": 29,
   "id": "ede72b65-0b40-4582-bbfd-5412d585ac8e",
   "metadata": {},
   "outputs": [
    {
     "name": "stdout",
     "output_type": "stream",
     "text": [
      "hello\n",
      "None\n"
     ]
    }
   ],
   "source": [
    "def fun():\n",
    "    print('hello')\n",
    "\n",
    "out =fun\n",
    "\n",
    "mylist=[0,out]\n",
    "print(mylist[1]())\n"
   ]
  },
  {
   "cell_type": "code",
   "execution_count": null,
   "id": "7e7b37d6-f89f-412e-bc27-8d71ecbcbd6b",
   "metadata": {},
   "outputs": [],
   "source": []
  }
 ],
 "metadata": {
  "kernelspec": {
   "display_name": "Python 3 (ipykernel)",
   "language": "python",
   "name": "python3"
  },
  "language_info": {
   "codemirror_mode": {
    "name": "ipython",
    "version": 3
   },
   "file_extension": ".py",
   "mimetype": "text/x-python",
   "name": "python",
   "nbconvert_exporter": "python",
   "pygments_lexer": "ipython3",
   "version": "3.12.4"
  }
 },
 "nbformat": 4,
 "nbformat_minor": 5
}
