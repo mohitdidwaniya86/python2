{
 "cells": [
  {
   "cell_type": "code",
   "execution_count": 5,
   "id": "f604bafc-be15-41e6-85ff-3c4510c77461",
   "metadata": {},
   "outputs": [
    {
     "name": "stdout",
     "output_type": "stream",
     "text": [
      "buddy says woof!\n",
      "Golden Retriever this is breed\n",
      "max says woof!\n",
      "Labrador this is breed\n"
     ]
    }
   ],
   "source": [
    "#Example with self\n",
    "class dog:\n",
    "    def __init__(self,name, breed): # constructor with 'self'\n",
    "        self.name = name # 'self.name' binds to the instance attributes\n",
    "        self.breed = breed\n",
    "    def bark(self):\n",
    "        print(f\"{self.name} says woof!\")\n",
    "        print(f\"{self.breed} this is breed\")\n",
    "dog1= dog('buddy', 'Golden Retriever')\n",
    "dog2=dog('max' ,'Labrador')\n",
    "\n",
    "# Access attributes and methods\n",
    "dog1.bark()\n",
    "dog2.bark()"
   ]
  },
  {
   "cell_type": "code",
   "execution_count": 7,
   "id": "cc2bcd6b-a776-4538-ae3c-1f7c099265c8",
   "metadata": {},
   "outputs": [
    {
     "name": "stdout",
     "output_type": "stream",
     "text": [
      "17\n",
      "3\n",
      "70\n",
      "1.4285714285714286\n"
     ]
    }
   ],
   "source": [
    "# create a calculator \n",
    "# Add methods for addition, Subtraction,multiplication, And division\n",
    "#use the parameter to aceess the number\n",
    "class Calculator:\n",
    "    def __init__(self,num1,num2):\n",
    "        self.num1= num1\n",
    "        self.num2= num2\n",
    "    def add(self):\n",
    "        return self.num1 +self.num2\n",
    "    def subtraction(self):\n",
    "         return self.num1-self.num2\n",
    "    def multiply(self):\n",
    "        return self.num1 *self.num2\n",
    "    def divide(self):\n",
    "        if self.num2!=0:\n",
    "            return self.num1 /self.num2\n",
    "        else:\n",
    "            return \"division by zero is not allowed!\"\n",
    "# Test the calculator class\n",
    "calc = Calculator(10,7)\n",
    "print(calc.add())\n",
    "print(calc.subtraction())\n",
    "print(calc.multiply())\n",
    "print(calc.divide())"
   ]
  },
  {
   "cell_type": "code",
   "execution_count": null,
   "id": "262d237d-6309-414b-9024-9a284a8bdd07",
   "metadata": {},
   "outputs": [],
   "source": []
  },
  {
   "cell_type": "code",
   "execution_count": null,
   "id": "9bcd3fc4-4a05-4b06-9680-c78e326aa438",
   "metadata": {},
   "outputs": [],
   "source": []
  }
 ],
 "metadata": {
  "kernelspec": {
   "display_name": "Python 3 (ipykernel)",
   "language": "python",
   "name": "python3"
  },
  "language_info": {
   "codemirror_mode": {
    "name": "ipython",
    "version": 3
   },
   "file_extension": ".py",
   "mimetype": "text/x-python",
   "name": "python",
   "nbconvert_exporter": "python",
   "pygments_lexer": "ipython3",
   "version": "3.12.4"
  }
 },
 "nbformat": 4,
 "nbformat_minor": 5
}
