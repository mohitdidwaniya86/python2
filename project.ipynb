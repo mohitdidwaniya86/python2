{
 "cells": [
  {
   "cell_type": "code",
   "execution_count": 85,
   "id": "1c995ff7-65dd-48ae-a5b1-fc9910f28711",
   "metadata": {},
   "outputs": [
    {
     "name": "stdout",
     "output_type": "stream",
     "text": [
      "ev No: mh4563, Parking Charge: 100\n",
      "Bike No: B001, Parking Charge: 50\n",
      " is available for parking.\n",
      " space is  not availabe for parking\n",
      "car No: C101, Parking Charge: 75\n"
     ]
    }
   ],
   "source": [
    "class ParkingSpot:\n",
    "    def __init__(self, spot_id,location):\n",
    "        self.spot_id =spot_id\n",
    "        self.location = location\n",
    "    def park(self):\n",
    "        return f\" spot id: {self.spot_id} and  location is :{self.location}\"\n",
    "    def parking_available(self):\n",
    "        self.is_occupied=False\n",
    "        return f\" is available for parking.\"\n",
    "            \n",
    " \n",
    "    def parking_not_available(self):\n",
    "        self.is_occupied=True\n",
    "        return f\" space is  not availabe for parking\"\n",
    "        \n",
    "       \n",
    "       \n",
    "  \n",
    "            \n",
    "class bike(ParkingSpot):\n",
    "    def __init__(self,spot_id, location,bike_no, charge):\n",
    "        super().__init__(spot_id, location)\n",
    "\n",
    "        self.bike_no= bike_no\n",
    "        self.charge= charge\n",
    "       \n",
    "    def bike_details(self):\n",
    "        return f\"Bike No: {self.bike_no}, Parking Charge: {self.charge}\"\n",
    "class car(ParkingSpot):\n",
    "       def __init__(self,spot_id, location, car_no, charge):\n",
    "           super().__init__(spot_id, location)\n",
    "           self.car_no= car_no\n",
    "           self.charge= charge\n",
    "       \n",
    "       def car_details(self):\n",
    "        return f\"car No: {self.car_no}, Parking Charge: {self.charge}\"\n",
    "class ev(ParkingSpot):\n",
    "    def __init__(self,spot_id, location, ev_no, charge, is_occupied=False):\n",
    "        super().__init__(spot_id, location)\n",
    "\n",
    "       \n",
    "        self.ev_no= ev_no\n",
    "        self.charge= charge\n",
    "        self.is_occupied= is_occupied\n",
    "    def ev_details(self):\n",
    "        return f\"ev No: {self.ev_no}, Parking Charge: {self.charge}\"\n",
    "    \n",
    "v= ev(4563,'mr road', 'mh4563',100)\n",
    "print(v.ev_details())\n",
    "bike = bike(7890, \"Central Avenue\", \"B001\", 50)\n",
    "print(bike.bike_details())\n",
    "print(bike.parking_available())\n",
    "print(bike.parking_not_available())\n",
    "car = car(5678, \"Elm Street\", \"C101\", 75)\n",
    "print(car.car_details())\n",
    "\n",
    "\n",
    "\n",
    "        \n",
    "            \n",
    "\n",
    "\n",
    "\n",
    "    \n",
    "        \n",
    "        \n",
    "        \n",
    "    \n",
    "    "
   ]
  },
  {
   "cell_type": "code",
   "execution_count": null,
   "id": "8464524f-f158-4dc6-8792-391039c6625f",
   "metadata": {},
   "outputs": [],
   "source": []
  },
  {
   "cell_type": "code",
   "execution_count": null,
   "id": "c529b2ba-114b-479a-bcab-75f9389ad6eb",
   "metadata": {},
   "outputs": [],
   "source": []
  }
 ],
 "metadata": {
  "kernelspec": {
   "display_name": "Python 3 (ipykernel)",
   "language": "python",
   "name": "python3"
  },
  "language_info": {
   "codemirror_mode": {
    "name": "ipython",
    "version": 3
   },
   "file_extension": ".py",
   "mimetype": "text/x-python",
   "name": "python",
   "nbconvert_exporter": "python",
   "pygments_lexer": "ipython3",
   "version": "3.12.4"
  }
 },
 "nbformat": 4,
 "nbformat_minor": 5
}
