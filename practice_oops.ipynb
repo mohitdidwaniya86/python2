{
 "cells": [
  {
   "cell_type": "code",
   "execution_count": 80,
   "id": "ee3528a8-61ad-4c01-83b2-356073fdaf96",
   "metadata": {},
   "outputs": [
    {
     "name": "stdout",
     "output_type": "stream",
     "text": [
      "adding new student  in database..\n",
      "karan 89\n",
      "adding new student  in database..\n",
      "raj 78\n",
      "welcome student raj 78\n",
      "78\n",
      "89\n"
     ]
    },
    {
     "data": {
      "text/plain": [
       "'mlv college'"
      ]
     },
     "execution_count": 80,
     "metadata": {},
     "output_type": "execute_result"
    }
   ],
   "source": [
    "class Student:\n",
    "    college_name = 'mlv college'\n",
    "    def __init__(self,name,marks): # parameterized constructor\n",
    "        self.name = name\n",
    "        self.marks = marks\n",
    "        print('adding new student  in database..')\n",
    "    def welcome(self):\n",
    "        print('welcome student',self.name,self.marks)\n",
    "    def get_marks(self):\n",
    "        return self.marks\n",
    "\n",
    "    \n",
    "s1= Student('karan',89)\n",
    "print(s1.name,s1.marks)\n",
    "s2=Student('raj',78)\n",
    "print(s2.name,s2.marks)\n",
    "s2.welcome()\n",
    "print(s2.get_marks())\n",
    "print(s1.get_marks())\n",
    "s1.college_name\n",
    "\n"
   ]
  },
  {
   "cell_type": "code",
   "execution_count": 38,
   "id": "7e3bbf82-a32f-4ab7-ba34-da6b9f5bf8ff",
   "metadata": {},
   "outputs": [],
   "source": [
    "    #def __init__(self): , default constructor\n",
    "#attribue>> data( like name , marks etc)\n",
    "# class.attr\n",
    "#obj.attr\n",
    "#self is refrence of object\n",
    "# obj.attr> calss.attr\n",
    "# method are functions the belongs to objects\n",
    "# self..> it is a object instance\n",
    "\n"
   ]
  },
  {
   "cell_type": "code",
   "execution_count": 138,
   "id": "1d9093bd-0786-4b08-82ef-fa6bc25d3532",
   "metadata": {},
   "outputs": [
    {
     "name": "stdout",
     "output_type": "stream",
     "text": [
      " raka avrage is:69.66666666666667\n",
      " mohit avrage is:69.66666666666667\n"
     ]
    }
   ],
   "source": [
    "#practice questions\n",
    "class Student:\n",
    "    def __init__(self,name,maths,bio,sst):\n",
    "        self.name = name \n",
    "        self.maths = maths\n",
    "        self.bio= bio\n",
    "        self.sst= sst\n",
    "    def get_avg(self):\n",
    "        total= self.maths+self.bio+self.sst\n",
    "        avg=total/3\n",
    "        print(f\" {self.name} avrage is:{avg}\")\n",
    "\n",
    "result=Student('raka',88,76,45)\n",
    "result.get_avg()\n",
    "result.name ='mohit'\n",
    "result.get_avg()\n",
    "\n",
    "\n"
   ]
  },
  {
   "cell_type": "code",
   "execution_count": 186,
   "id": "bf31c7fa-044a-499d-949b-8df9d2debbe8",
   "metadata": {},
   "outputs": [
    {
     "name": "stdout",
     "output_type": "stream",
     "text": [
      "amount is credit..10500\n",
      "amount is debited..10410\n",
      "print balance..10410\n"
     ]
    }
   ],
   "source": [
    "class Account:\n",
    "    def __init__(self, account_no , balance=0):\n",
    "        self.account_no = account_no\n",
    "        self.balance= balance\n",
    "    def credit(self,amount):\n",
    "        self.balance +=amount\n",
    "        return (f'amount is credit..{self.balance}')\n",
    "    def debit(self,amount):\n",
    "        if self.balance>=amount:\n",
    "            self.balance-=amount\n",
    "        return (f'amount is debited..{self.balance}')\n",
    "    def chek_balance(self):\n",
    "        return( f'print balance..{self.balance}')\n",
    "bank= Account(123456,10000)\n",
    "print(bank.credit(500))\n",
    "print(bank.debit(90))\n",
    "print(bank.chek_balance())\n",
    "\n",
    "    \n",
    "        "
   ]
  },
  {
   "cell_type": "code",
   "execution_count": 213,
   "id": "ec6669ab-1561-4e3a-8595-2da50288eedb",
   "metadata": {},
   "outputs": [
    {
     "name": "stdout",
     "output_type": "stream",
     "text": [
      " fortuner color is :black\n",
      "car started..\n",
      "None\n",
      "car stopped\n",
      "None\n"
     ]
    }
   ],
   "source": [
    "class car:\n",
    "    color='black'\n",
    "    @staticmethod\n",
    "    def start():\n",
    "        print('car started..')\n",
    "    @staticmethod\n",
    "    def stop():\n",
    "        print('car stopped')\n",
    "class Toyotacar(car):\n",
    "    def __init__(self,name):\n",
    "        self.name = name\n",
    "car1=Toyotacar('fortuner')\n",
    "car2=Toyotacar('creata')\n",
    "print(f\" fortuner color is :{car1.color}\")\n",
    "print(car2.start())\n",
    "print(car1.stop())\n"
   ]
  },
  {
   "cell_type": "code",
   "execution_count": 217,
   "id": "da1fe8e8-db2f-4015-bd61-03698a211c1e",
   "metadata": {},
   "outputs": [
    {
     "name": "stdout",
     "output_type": "stream",
     "text": [
      "car stopped\n",
      "None\n"
     ]
    }
   ],
   "source": [
    "#multilevel inheritance \n",
    "class car:\n",
    "   \n",
    "    @staticmethod\n",
    "    def start():\n",
    "        print('car started..')\n",
    "    @staticmethod\n",
    "    def stop():\n",
    "        print('car stopped')\n",
    "class Toyotacar(car):\n",
    "    def __init__(self,name):\n",
    "        self.brand = brand\n",
    "class fortuner(Toyotacar):\n",
    "    def __init__(self,type):\n",
    "        self.type = type\n",
    "car1=fortuner('deasel')\n",
    "print(car1.stop())\n",
    "              \n",
    "    \n",
    "    \n",
    "\n"
   ]
  },
  {
   "cell_type": "code",
   "execution_count": 25,
   "id": "9065a240-a099-4c5d-a6a0-fcd835963ca7",
   "metadata": {},
   "outputs": [
    {
     "name": "stdout",
     "output_type": "stream",
     "text": [
      "medical record added for kk.\n",
      "medical record added for kk.\n",
      " record for ,kk:['2021 dengu', '2022 covid19']\n"
     ]
    }
   ],
   "source": [
    "#problem: develop a system for managing patient record in a hospital where:\n",
    "#patient details(name, age and medical history) should be private.\n",
    "# only autorized methods can retirve or update medical history\n",
    "# provide a method to add new medical record while keeping previous data secure.\n",
    "class patient():\n",
    "    def __init__(self, name, age):\n",
    "        self.__name = name\n",
    "        self.__age = age\n",
    "        self.__medical_history= []\n",
    "    def medical_record(self, record):\n",
    "        self.__medical_history.append(record)\n",
    "        return f\"medical record added for {self.__name}.\"\n",
    "    def get_medical_history(self):\n",
    "        return f\" record for ,{self.__name}:{self.__medical_history}\"\n",
    "p=patient('kk',90)\n",
    "print(p.medical_record('2021 dengu'))\n",
    "print(p.medical_record('2022 covid19'))\n",
    "print(p.get_medical_history())\n",
    "p\n",
    "\n",
    "\n",
    "        \n",
    "        \n",
    "   \n",
    "\n",
    "\n",
    "    "
   ]
  },
  {
   "cell_type": "code",
   "execution_count": 41,
   "id": "db97b7b4-a73d-441a-b075-040615eacc54",
   "metadata": {},
   "outputs": [
    {
     "name": "stdout",
     "output_type": "stream",
     "text": [
      " update successfully! mohit\n",
      "updated score for:mohitis  [{'subject': 'bio', 'score': 89}]\n"
     ]
    }
   ],
   "source": [
    "# problem: create a system for online examinations where: student scores are private and cannot be accessed directly\n",
    "#score can only be added or retrieve using specific methods. implementayion a features to calculate score of the student\n",
    "class student():\n",
    "    def __init__(self,name, score):\n",
    "        self.__name = name\n",
    "        self.__score= []\n",
    "    def add_score(self, subject,score):\n",
    "        if 0<score<100:\n",
    "            self.__score.append({'subject':subject, 'score':score})\n",
    "        return f\" update successfully! {self.__name}\"\n",
    "    def get_score(self):\n",
    "        return f\"updated score for:{self.__name}is  {self.__score}\"\n",
    "    \n",
    "s=student('mohit',71)\n",
    "print(s.add_score('bio',89))\n",
    "print(s.get_score())\n"
   ]
  },
  {
   "cell_type": "code",
   "execution_count": null,
   "id": "ddf9f73f-5ea5-4c6f-8ad9-9a6ccf0ed358",
   "metadata": {},
   "outputs": [],
   "source": []
  }
 ],
 "metadata": {
  "kernelspec": {
   "display_name": "Python 3 (ipykernel)",
   "language": "python",
   "name": "python3"
  },
  "language_info": {
   "codemirror_mode": {
    "name": "ipython",
    "version": 3
   },
   "file_extension": ".py",
   "mimetype": "text/x-python",
   "name": "python",
   "nbconvert_exporter": "python",
   "pygments_lexer": "ipython3",
   "version": "3.12.4"
  }
 },
 "nbformat": 4,
 "nbformat_minor": 5
}
