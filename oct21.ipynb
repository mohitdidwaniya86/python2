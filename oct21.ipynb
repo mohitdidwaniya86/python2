{
 "cells": [
  {
   "cell_type": "code",
   "execution_count": 1,
   "id": "28706b85-d6bb-4214-8e40-6c49aefdb36d",
   "metadata": {},
   "outputs": [
    {
     "data": {
      "text/plain": [
       "[1, 2, 3, 4, 67]"
      ]
     },
     "execution_count": 1,
     "metadata": {},
     "output_type": "execute_result"
    }
   ],
   "source": [
    "my=[1,2,3,4]\n",
    "my.append(67)\n",
    "my"
   ]
  },
  {
   "cell_type": "code",
   "execution_count": 3,
   "id": "45cd42d3-5c1b-4cfa-a45e-82be092c4344",
   "metadata": {},
   "outputs": [
    {
     "data": {
      "text/plain": [
       "[1, 2, 3, 4, 67, 'h', 'e', 'y']"
      ]
     },
     "execution_count": 3,
     "metadata": {},
     "output_type": "execute_result"
    }
   ],
   "source": [
    "my.extend('hey')\n",
    "my"
   ]
  },
  {
   "cell_type": "code",
   "execution_count": 5,
   "id": "7d3fc7b1-9b05-4aef-8377-5a5979de8516",
   "metadata": {},
   "outputs": [
    {
     "data": {
      "text/plain": [
       "[1, 2, 3, 4, 67, 'h', 'e', 'y', 'hey']"
      ]
     },
     "execution_count": 5,
     "metadata": {},
     "output_type": "execute_result"
    }
   ],
   "source": [
    "my.extend(['hey'])\n",
    "my\n",
    "           "
   ]
  },
  {
   "cell_type": "code",
   "execution_count": 7,
   "id": "39dfb6d0-7311-437e-b0f5-60e3e324bcf7",
   "metadata": {},
   "outputs": [
    {
     "data": {
      "text/plain": [
       "[1, 2, 3, 67, 'h', 'e', 'y', 'hey']"
      ]
     },
     "execution_count": 7,
     "metadata": {},
     "output_type": "execute_result"
    }
   ],
   "source": [
    "my.pop(3)\n",
    "my"
   ]
  },
  {
   "cell_type": "code",
   "execution_count": 11,
   "id": "5b291994-204d-482f-afe5-0530bed430cc",
   "metadata": {},
   "outputs": [
    {
     "data": {
      "text/plain": [
       "[1, 39, 2, 3, 67, 'h', 'e', 'y', 'hey']"
      ]
     },
     "execution_count": 11,
     "metadata": {},
     "output_type": "execute_result"
    }
   ],
   "source": [
    "my.insert(1,39)\n",
    "my\n"
   ]
  },
  {
   "cell_type": "code",
   "execution_count": 1,
   "id": "dc95a6e2-eacb-419e-913c-e9ca0125fdfb",
   "metadata": {},
   "outputs": [
    {
     "name": "stdout",
     "output_type": "stream",
     "text": [
      "0 10\n",
      "10 20\n",
      "10 20\n",
      "19 20\n",
      "19 20\n"
     ]
    }
   ],
   "source": [
    "#pgm to find the max. number of a list\n",
    "mylist=[10,20,4,19,8]\n",
    "max=0\n",
    "second_max=0\n",
    "for i in mylist:\n",
    "    if i>max:\n",
    "        second_max=max\n",
    "        max=i\n",
    "    elif(i>second_max and i!=max):\n",
    "        second_max=i\n",
    "    print(second_max,max)\n",
    "        \n"
   ]
  },
  {
   "cell_type": "code",
   "execution_count": 21,
   "id": "92828722-2715-420a-9cbc-4d86bf5b9895",
   "metadata": {},
   "outputs": [
    {
     "name": "stdout",
     "output_type": "stream",
     "text": [
      "11\n",
      "8\n"
     ]
    }
   ],
   "source": [
    "my=[2,11,11,11,6,7,8,8,8]\n",
    "\n",
    "for i in range(len(my)-2):\n",
    "    if my[i]==my[i+1] and my[i]==my[i+2]:\n",
    "        print(my[i])\n",
    "        \n"
   ]
  },
  {
   "cell_type": "code",
   "execution_count": 61,
   "id": "4050ec1f-e75e-4d76-a6fe-3ffaf778cf52",
   "metadata": {},
   "outputs": [
    {
     "name": "stdout",
     "output_type": "stream",
     "text": [
      "not\n"
     ]
    }
   ],
   "source": [
    "#valid parenthesis or not\n",
    "m=[]\n",
    "x=0\n",
    "for char in '[{}]':\n",
    "    if char in '[({':\n",
    "        m.append(char)\n",
    "    else:S\n",
    "        if char=='}' and m.pop!='{':\n",
    "            x=x+1\n",
    "            break\n",
    "        elif char==']' and m.pop!='[':\n",
    "            x=x+1\n",
    "            break\n",
    "        elif char==')' and m.pop!='(':\n",
    "            x=x+1\n",
    "            break\n",
    "if x==1:\n",
    "    print('not')\n",
    "else:\n",
    "    print('valid')\n",
    "        \n"
   ]
  },
  {
   "cell_type": "code",
   "execution_count": null,
   "id": "ff0b7837-e499-4c5d-84b1-a3187a929d74",
   "metadata": {},
   "outputs": [],
   "source": []
  }
 ],
 "metadata": {
  "kernelspec": {
   "display_name": "Python 3 (ipykernel)",
   "language": "python",
   "name": "python3"
  },
  "language_info": {
   "codemirror_mode": {
    "name": "ipython",
    "version": 3
   },
   "file_extension": ".py",
   "mimetype": "text/x-python",
   "name": "python",
   "nbconvert_exporter": "python",
   "pygments_lexer": "ipython3",
   "version": "3.12.4"
  }
 },
 "nbformat": 4,
 "nbformat_minor": 5
}
