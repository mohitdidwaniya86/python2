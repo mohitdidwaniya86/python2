{
 "cells": [
  {
   "cell_type": "code",
   "execution_count": 47,
   "id": "20b6045b-85c7-45df-9429-0e2585b30eba",
   "metadata": {},
   "outputs": [
    {
     "name": "stdout",
     "output_type": "stream",
     "text": [
      "2\n"
     ]
    }
   ],
   "source": [
    "#count given element\n",
    "x=7\n",
    "count=0\n",
    "my=[1,2 ,75,88,7,2,7,9]\n",
    "for i in my:\n",
    "    if i==x:\n",
    "        count+=1\n",
    "print(count)\n",
    "\n",
    "\n",
    "\n",
    "        "
   ]
  },
  {
   "cell_type": "code",
   "execution_count": 59,
   "id": "eb4febf4-93d8-49d4-962a-0f0ce81c7187",
   "metadata": {},
   "outputs": [
    {
     "data": {
      "text/plain": [
       "[1, 2, 75, 88, 7, 9]"
      ]
     },
     "execution_count": 59,
     "metadata": {},
     "output_type": "execute_result"
    }
   ],
   "source": [
    "my1=[1,2 ,75,88,7,2,7,9]\n",
    "new=[]\n",
    "for i in my1:\n",
    "    if i not in new:\n",
    "        new.append(i)\n",
    "new\n",
    "        "
   ]
  },
  {
   "cell_type": "code",
   "execution_count": 75,
   "id": "3fc1634b-f84b-4403-a913-c5a32bb9f572",
   "metadata": {},
   "outputs": [
    {
     "name": "stdout",
     "output_type": "stream",
     "text": [
      "duplicate True\n"
     ]
    }
   ],
   "source": [
    "mylist=[1,2,3,11,2,5]\n",
    "x=0\n",
    "for i in range(0,len(mylist)):\n",
    "    for j in range(i+1,len(mylist)):\n",
    "        if mylist[i]==mylist[j]:\n",
    "           \n",
    "            x+=1\n",
    "            break\n",
    "if(x==1):\n",
    "     print('duplicate',True)\n",
    "else:\n",
    "    x==0\n",
    "    print('non duplicate')"
   ]
  },
  {
   "cell_type": "code",
   "execution_count": 83,
   "id": "66b41174-935d-4f69-a8e4-e0287d6fbd17",
   "metadata": {},
   "outputs": [
    {
     "name": "stdout",
     "output_type": "stream",
     "text": [
      "duplicate True\n"
     ]
    }
   ],
   "source": [
    "mylist=[1,2,3,11,2,5]\n",
    "x=0\n",
    "for i in range(0,len(mylist)):\n",
    "    for j in range(i+1,len(mylist)):\n",
    "        if mylist[i]==mylist[j]:\n",
    "            x+=1\n",
    "            break\n",
    "if(x==1):\n",
    "    print('duplicate', True)\n",
    "else:\n",
    "    x==0\n",
    "    print('non duplicate', False)\n"
   ]
  },
  {
   "cell_type": "code",
   "execution_count": 119,
   "id": "cf49d421-5c3f-4726-8410-4487416d5d21",
   "metadata": {},
   "outputs": [
    {
     "name": "stdout",
     "output_type": "stream",
     "text": [
      "1111\n"
     ]
    }
   ],
   "source": [
    "li=[1111,2,22,1,561,-9,78]\n",
    "max=li[0]\n",
    "for i in li:\n",
    "    if i>max:\n",
    "        max=i\n",
    "print(max)\n",
    "        \n",
    "        \n",
    "    \n",
    "        "
   ]
  },
  {
   "cell_type": "code",
   "execution_count": 189,
   "id": "aaa1a64e-dde7-4e0a-a280-e69ba96b8d75",
   "metadata": {},
   "outputs": [
    {
     "name": "stdout",
     "output_type": "stream",
     "text": [
      "781 442\n"
     ]
    }
   ],
   "source": [
    "li=[11,442,442,1,2,-9,47,9,781]\n",
    "max=0\n",
    "s_max=0\n",
    "for i in li:\n",
    "    if i>max :\n",
    "        s_max=max\n",
    "        max=i\n",
    "    elif i>s_max and max!=i:\n",
    "        s_max=i\n",
    "print(max,s_max)\n",
    "\n",
    "\n",
    "      \n",
    "    \n"
   ]
  },
  {
   "cell_type": "code",
   "execution_count": 185,
   "id": "5de04b60-e43a-43e4-8edf-8a52bd692295",
   "metadata": {},
   "outputs": [
    {
     "name": "stdout",
     "output_type": "stream",
     "text": [
      "True 2\n",
      "True 2\n",
      "True 7\n",
      "False\n"
     ]
    }
   ],
   "source": [
    "#consicutive number:\n",
    "new=[1,2,2,2,2,3,5,7,7,7]\n",
    "for i in range(0,len(new)-2):\n",
    "    if new[i]==new[i+1]==new[i+2]:\n",
    "        print(True,new[i])\n",
    "    elif new[i]!=new[i+1]!=new[i+2]:\n",
    "        i+=1\n",
    "print(False)\n",
    "\n",
    "    "
   ]
  },
  {
   "cell_type": "code",
   "execution_count": 193,
   "id": "01062aa3-4d04-45cd-a3cc-6cccbd17767d",
   "metadata": {},
   "outputs": [
    {
     "ename": "SyntaxError",
     "evalue": "incomplete input (4058857543.py, line 6)",
     "output_type": "error",
     "traceback": [
      "\u001b[1;36m  Cell \u001b[1;32mIn[193], line 6\u001b[1;36m\u001b[0m\n\u001b[1;33m    \u001b[0m\n\u001b[1;37m    ^\u001b[0m\n\u001b[1;31mSyntaxError\u001b[0m\u001b[1;31m:\u001b[0m incomplete input\n"
     ]
    }
   ],
   "source": [
    "#pascle triangle\n",
    "li=[[1]]\n",
    "n=5\n",
    "\n",
    "    \n",
    "    \n",
    "    \n",
    "    \n",
    "    "
   ]
  },
  {
   "cell_type": "code",
   "execution_count": null,
   "id": "5ffa9e4e-61dd-42b1-abb1-6e53aa4f42c6",
   "metadata": {},
   "outputs": [],
   "source": []
  },
  {
   "cell_type": "code",
   "execution_count": null,
   "id": "b430e76b-ce41-4ea3-b9d6-437847be7b78",
   "metadata": {},
   "outputs": [],
   "source": []
  }
 ],
 "metadata": {
  "kernelspec": {
   "display_name": "Python 3 (ipykernel)",
   "language": "python",
   "name": "python3"
  },
  "language_info": {
   "codemirror_mode": {
    "name": "ipython",
    "version": 3
   },
   "file_extension": ".py",
   "mimetype": "text/x-python",
   "name": "python",
   "nbconvert_exporter": "python",
   "pygments_lexer": "ipython3",
   "version": "3.12.4"
  }
 },
 "nbformat": 4,
 "nbformat_minor": 5
}
