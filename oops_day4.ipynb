{
 "cells": [
  {
   "cell_type": "code",
   "execution_count": 17,
   "id": "2732169c-8a0d-4f8f-9279-55fe0cbcb8dd",
   "metadata": {},
   "outputs": [
    {
     "name": "stdout",
     "output_type": "stream",
     "text": [
      "medical record added for mohit.\n",
      "medical record added for mohit.\n",
      "medical history for mohit: ['2024:Flue Diagnosis', '2024:Blood test result normal']\n"
     ]
    }
   ],
   "source": [
    "#problem: develop a system for managing patient record in a hospital where:\n",
    "#patient details(name, age and medical history) should be private.\n",
    "# only autorized methods can retirve or update medical history\n",
    "# provide a method to add new medical record while keeping previous data secure.\n",
    "class patient:\n",
    "    def __init__(self,name ,age):\n",
    "        self.__name = name\n",
    "        self.__age = age\n",
    "        self.__medical_history= []\n",
    "    def add_medical_record(self,record):\n",
    "        self.__medical_history.append(record)\n",
    "        return f\"medical record added for {self.__name}.\"\n",
    "    def get_medical_history(self):\n",
    "        return f\"medical history for {self.__name}: {self.__medical_history}\"\n",
    "patient=patient('mohit',34)\n",
    "print(patient.add_medical_record('2024:Flue Diagnosis'))\n",
    "print(patient.add_medical_record('2024:Blood test result normal'))\n",
    "print(patient.get_medical_history())"
   ]
  },
  {
   "cell_type": "code",
   "execution_count": 1,
   "id": "3875def0-9bdc-4f41-b1f1-4fa2fbcf6454",
   "metadata": {},
   "outputs": [
    {
     "ename": "IndentationError",
     "evalue": "unexpected indent (2139343646.py, line 25)",
     "output_type": "error",
     "traceback": [
      "\u001b[1;36m  Cell \u001b[1;32mIn[1], line 25\u001b[1;36m\u001b[0m\n\u001b[1;33m    -\u001b[0m\n\u001b[1;37m    ^\u001b[0m\n\u001b[1;31mIndentationError\u001b[0m\u001b[1;31m:\u001b[0m unexpected indent\n"
     ]
    }
   ],
   "source": [
    "\" problem: create a system for online examinations where: student scores are private and cannot be accessed directly\"\n",
    "\"score can only be added or retrieve using specific methods. implementayion a features to calculate score of the student\"\n",
    "class Exam:\n",
    "    def __init__(self,studenr_name):\n",
    "        self.__student_name = student_name\n",
    "        self.__score =[]\n",
    "    def add_score(self,subject,score):\n",
    "        if 0<=score<=100:\n",
    "            self.__score.append({'subject':subject, 'score':score})\n",
    "            return f\"score added for {subject}:{score}.\"\n",
    "        else:\n",
    "            return 'Invalid score! must be betwwen 0 and 100'\n",
    "    def get_score(self):\n",
    "        return f\" scores for {self.__student_name}:{self.__score}\"\n",
    "    def calculate_avarage(self):\n",
    "        if not self.__scores:\n",
    "            return 'no scores avialable.'\n",
    "        total=sum(item['score'] for item in self.__scores)\n",
    "        return f\" avarage scores:{total/len(self.__scores):.2f}\"\n",
    "exam=Exam('sam')\n",
    "print(exam.add_score('math',10))\n",
    "print(exam.add_score('science',20))\n",
    "print(exam.get_scores())\n",
    "print(exam.calculate_avarage_score())\n",
    "        -"
   ]
  },
  {
   "cell_type": "code",
   "execution_count": 37,
   "id": "15fad50b-52dc-4d77-a507-de8cc41fdad0",
   "metadata": {},
   "outputs": [
    {
     "name": "stdout",
     "output_type": "stream",
     "text": [
      "engine started\n",
      "wheels are rotate\n",
      "car is driving\n"
     ]
    }
   ],
   "source": [
    "#multiple inheritance example:\n",
    "class Engine:\n",
    "    def start_engine(self):\n",
    "        print('engine started')\n",
    "class wheels:\n",
    "    def rotate_wheels(self):\n",
    "        print('wheels are rotate')\n",
    "class car(Engine,wheels):\n",
    "    def drive(self):\n",
    "        print('car is driving')\n",
    "my_car =car()\n",
    "my_car.start_engine()\n",
    "my_car.rotate_wheels()\n",
    "my_car.drive()"
   ]
  },
  {
   "cell_type": "code",
   "execution_count": 47,
   "id": "5926e867-eccf-4c7a-80a4-11ae6a04cfe7",
   "metadata": {},
   "outputs": [
    {
     "name": "stdout",
     "output_type": "stream",
     "text": [
      "animal is eating\n",
      "dog is barking\n",
      "puppy is weeping\n"
     ]
    }
   ],
   "source": [
    "#multilevel inheritance:\n",
    "#ex. of multilevel inheritance\n",
    "class Animal:\n",
    "  def eat(self):\n",
    "    print(\"animal is eating\")\n",
    "class Dog(Animal):  #dog inherits from animal\n",
    "  def bark(self):\n",
    "    print(\"dog is barking\")\n",
    "class Puppy(Dog):   #puppy inherits from dog\n",
    "  def weep(self):\n",
    "    print(\"puppy is weeping\")\n",
    "\n",
    "#usage\n",
    "puppy=Puppy()\n",
    "puppy.eat()\n",
    "puppy.bark()\n",
    "puppy.weep()"
   ]
  },
  {
   "cell_type": "code",
   "execution_count": 55,
   "id": "066101c3-ce79-4f02-a280-2fefb61e292b",
   "metadata": {},
   "outputs": [
    {
     "name": "stdout",
     "output_type": "stream",
     "text": [
      "kk : 68515456 :iphone :500000\n",
      "None\n"
     ]
    }
   ],
   "source": [
    "# # e commerce order manager\n",
    "# customer class(with name and contact details)\n",
    "# prduct class(with name and price)\n",
    "# order class(that inherits customer and product to manage customer orders)\n",
    "class Customer:\n",
    "    def customer(self,name,contact):\n",
    "        self.name=name\n",
    "        self.contact=contact\n",
    "    # def display_details(self):\n",
    "    #     print(f\" {self.name}: {self.contact}\")\n",
    "class Product(Customer):\n",
    "    def product(self,product,price):\n",
    "        self.product=product\n",
    "        self.price=price\n",
    "class Order(Product,Customer):\n",
    "    def order(self):\n",
    "        print(f\"{self.name} : {self.contact} :{self.product} :{self.price}\")\n",
    "cust=Order()\n",
    "cust.customer(\"kk\",68515456)\n",
    "cust.product(\"iphone\",500000)\n",
    "print(cust.order())\n",
    "\n",
    "        \n",
    "        \n"
   ]
  },
  {
   "cell_type": "code",
   "execution_count": 69,
   "id": "8b63c076-9f3d-46e2-a87b-70808a62ddf8",
   "metadata": {},
   "outputs": [
    {
     "name": "stdout",
     "output_type": "stream",
     "text": [
      "vehicle is start\n",
      "vehicle is stop\n",
      "Ac is on\n",
      "Ac is off\n",
      "Battery is fully Charged\n"
     ]
    }
   ],
   "source": [
    "class Vehicle:\n",
    "  def vehicle(self,speed,fuel):\n",
    "    self.speed = speed\n",
    "    self.fuel = fuel\n",
    "\n",
    "  def start(self):\n",
    "    return \"vehicle is start\"\n",
    "  def stop(self):\n",
    "    return \"vehicle is stop\"    \n",
    "\n",
    "class Car(Vehicle):\n",
    "  def __init__(self,air_conditioning=False):\n",
    "    self.air_conditioning=air_conditioning\n",
    "\n",
    "  def ac_on(self):\n",
    "      self.air_conditioning==True\n",
    "      return \"Ac is on\"\n",
    "  def ac_off(self):\n",
    "    self.air_conditioning== False\n",
    "    return \"Ac is off\"\n",
    "     \n",
    "\n",
    "class ElectricCar(Car):\n",
    "  def ElectricCar(self,charge_battery=100):\n",
    "    self.charge_battery=charge_battery\n",
    "\n",
    "      \n",
    "    if charge_battery==100:\n",
    "      return \"Battery is fully Charged\"\n",
    "\n",
    "abc=ElectricCar()\n",
    "print(abc.start())\n",
    "print(abc.stop())\n",
    "\n",
    "print(abc.ac_on())\n",
    "print(abc.ac_off())\n",
    "print(abc.ElectricCar())"
   ]
  },
  {
   "cell_type": "code",
   "execution_count": null,
   "id": "85bbba06-16a2-4c16-a4d5-a8727215c416",
   "metadata": {},
   "outputs": [],
   "source": []
  }
 ],
 "metadata": {
  "kernelspec": {
   "display_name": "Python 3 (ipykernel)",
   "language": "python",
   "name": "python3"
  },
  "language_info": {
   "codemirror_mode": {
    "name": "ipython",
    "version": 3
   },
   "file_extension": ".py",
   "mimetype": "text/x-python",
   "name": "python",
   "nbconvert_exporter": "python",
   "pygments_lexer": "ipython3",
   "version": "3.12.4"
  }
 },
 "nbformat": 4,
 "nbformat_minor": 5
}
