{
 "cells": [
  {
   "cell_type": "code",
   "execution_count": 1,
   "id": "0a3b5407-e9a7-4588-acc2-e6e781a3c215",
   "metadata": {},
   "outputs": [],
   "source": [
    "def func():\n",
    "    print('hy')\n",
    "    x=func()\n",
    "    func()"
   ]
  },
  {
   "cell_type": "code",
   "execution_count": 3,
   "id": "7fb95293-2ba8-4cfa-a40b-939c10304605",
   "metadata": {},
   "outputs": [],
   "source": [
    "#high order function\n",
    "#if we can pass a function as a argumrnt to another function\n",
    "#all high order function are first class function\n",
    "\n"
   ]
  },
  {
   "cell_type": "code",
   "execution_count": 7,
   "id": "43dcaa4e-69a4-4426-97c4-418bb2ca8b59",
   "metadata": {},
   "outputs": [
    {
     "name": "stdout",
     "output_type": "stream",
     "text": [
      "40 30\n"
     ]
    }
   ],
   "source": [
    "def func(a,b):\n",
    "    return a+b\n",
    "    # print(a+b) \n",
    "def addNumber(x,y):\n",
    "    print(x,y(10,20))\n",
    "addNumber(40,func)"
   ]
  },
  {
   "cell_type": "code",
   "execution_count": 15,
   "id": "3d5c6145-8248-49b5-a223-fd5cbe2a9333",
   "metadata": {},
   "outputs": [],
   "source": [
    "def square(x):\n",
    "    return (x**2)\n",
    "    #n =>4 ,fnt=square\n",
    "def cube(n,fnt):\n",
    "    print(n * fnt(n))\n",
    "    #x=square(10)\n",
    "    cube(6,square)"
   ]
  },
  {
   "cell_type": "code",
   "execution_count": 1,
   "id": "6d8bfb8f-1fe0-4c0f-9edc-d5222c1a0260",
   "metadata": {},
   "outputs": [],
   "source": [
    "#lambda functions\n",
    "#lambda=>annoymous functions\n",
    "# same as normal\n"
   ]
  },
  {
   "cell_type": "code",
   "execution_count": 7,
   "id": "14d4088d-aaf8-4d03-9653-92a328b06836",
   "metadata": {},
   "outputs": [
    {
     "data": {
      "text/plain": [
       "35"
      ]
     },
     "execution_count": 7,
     "metadata": {},
     "output_type": "execute_result"
    }
   ],
   "source": [
    "fun=lambda a,b:a+b\n",
    "fun(1,34)"
   ]
  },
  {
   "cell_type": "code",
   "execution_count": 19,
   "id": "bc39e481-d30e-4841-b6cd-bd742235777a",
   "metadata": {},
   "outputs": [
    {
     "name": "stdout",
     "output_type": "stream",
     "text": [
      "lambda value: 64\n"
     ]
    }
   ],
   "source": [
    "def cube(x):\n",
    "    out=lambda x: x**2\n",
    "    print('lambda value:',x*out(x))\n",
    "cube(4)"
   ]
  },
  {
   "cell_type": "code",
   "execution_count": 41,
   "id": "9a92953a-3bbc-4e18-9d5e-35c02c662003",
   "metadata": {},
   "outputs": [
    {
     "name": "stdout",
     "output_type": "stream",
     "text": [
      "0 2\n"
     ]
    }
   ],
   "source": [
    "mydict={}\n",
    "k=50\n",
    "for x in enumerate([10,20,40]):\n",
    "    value,key=x\n",
    "   \n",
    "    if key not in mydict:\n",
    "        mydict[key]=value\n",
    "for value,key in enumerate([10,20,30]):\n",
    "    if k-key in mydict and mydict [k-key]!=value:\n",
    "        print(value,mydict[k-key])\n",
    "        break\n"
   ]
  },
  {
   "cell_type": "code",
   "execution_count": 53,
   "id": "7472d94b-93eb-4f4b-91e3-af3cd4e590af",
   "metadata": {},
   "outputs": [
    {
     "name": "stdout",
     "output_type": "stream",
     "text": [
      "5\n"
     ]
    }
   ],
   "source": [
    "prices=[7,1,5,3,6,4]\n",
    "profit=0\n",
    "for i in range(0,len(prices)):\n",
    "    for j in range(i+1,len(prices)):\n",
    "        max=prices[j]-prices[i]\n",
    "        if max>profit:\n",
    "            profit=max\n",
    "print(profit)\n"
   ]
  },
  {
   "cell_type": "code",
   "execution_count": null,
   "id": "8dc6f181-d457-43b1-ba04-c7e3b8dd732b",
   "metadata": {},
   "outputs": [],
   "source": [
    "buy=0\n",
    "sell=1\n",
    "maxi=0\n",
    "mylist=[7,1,5,3,6,4]\n",
    "no_days=len(mylist)\n",
    "while (sell<no_days):\n",
    "    if (mylist[sell]>mylist[buy]):\n",
    "        profit=mylist[sell]-mylist[buy]\n",
    "        maxi=max(maxi,   profit)\n",
    "    else:\n",
    "        buy=sell\n",
    "    sell=sell+1\n",
    "print(maxi)"
   ]
  },
  {
   "cell_type": "code",
   "execution_count": null,
   "id": "9d0a5679-e2b5-460d-83fe-6e08aa15831b",
   "metadata": {},
   "outputs": [],
   "source": [
    "#what is data whare house and importance\n",
    "#data whare house vs databse\n",
    "# etl vs elt\n",
    "# basic of normalization\n"
   ]
  },
  {
   "cell_type": "code",
   "execution_count": 21,
   "id": "c3306e8e-9270-4116-9d6b-eca406e9cacb",
   "metadata": {},
   "outputs": [
    {
     "name": "stdout",
     "output_type": "stream",
     "text": [
      "0 2\n"
     ]
    }
   ],
   "source": [
    " mydict={}\n",
    "for x in enumerate([10,20,40]): #enumerate fun give index and value pair\n",
    "    target=50\n",
    "    \n",
    "    value,key=x\n",
    "    if key not in mydict:\n",
    "        mydict[key]=value\n",
    "for value,key in enumerate([10,20,30]):\n",
    "    if target-key in mydict and mydict [target-key]!=value:\n",
    "           print(value,mydict[target-key])\n",
    "    break\n",
    "        \n",
    "        \n",
    "    \n"
   ]
  },
  {
   "cell_type": "code",
   "execution_count": 25,
   "id": "600af002-0f4e-400c-ab30-9b4a89e8a2c6",
   "metadata": {},
   "outputs": [
    {
     "name": "stdout",
     "output_type": "stream",
     "text": [
      "0 2\n"
     ]
    }
   ],
   "source": [
    "list=[10,20,30]\n",
    "target=40\n",
    "for i in range(0,len(list)):\n",
    "    for j in range(i+1,len(list)):\n",
    "        if list[i]+list[j]==target:\n",
    "            print(i,j)\n",
    "        \n"
   ]
  },
  {
   "cell_type": "code",
   "execution_count": null,
   "id": "7dd5ebb9-d881-4a0f-974c-1a374479a92f",
   "metadata": {},
   "outputs": [],
   "source": []
  }
 ],
 "metadata": {
  "kernelspec": {
   "display_name": "Python 3 (ipykernel)",
   "language": "python",
   "name": "python3"
  },
  "language_info": {
   "codemirror_mode": {
    "name": "ipython",
    "version": 3
   },
   "file_extension": ".py",
   "mimetype": "text/x-python",
   "name": "python",
   "nbconvert_exporter": "python",
   "pygments_lexer": "ipython3",
   "version": "3.12.4"
  }
 },
 "nbformat": 4,
 "nbformat_minor": 5
}
