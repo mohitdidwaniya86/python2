{
 "cells": [
  {
   "cell_type": "code",
   "execution_count": 17,
   "id": "78e3b4e5-9862-4694-9473-18e930c192fb",
   "metadata": {},
   "outputs": [
    {
     "name": "stdout",
     "output_type": "stream",
     "text": [
      "*\n",
      "**\n",
      "***\n",
      "****\n"
     ]
    }
   ],
   "source": [
    "for i in  range(1,5):\n",
    "    for j in range(1,i+1):\n",
    "        print('*',end=\"\")\n",
    "    print()"
   ]
  },
  {
   "cell_type": "code",
   "execution_count": 76,
   "id": "00ef3c76-87cd-4dc4-92af-1f11b5434788",
   "metadata": {},
   "outputs": [
    {
     "name": "stdout",
     "output_type": "stream",
     "text": [
      "1 11 21 3\n",
      "2 12 22 3\n",
      "3 13 23 3\n"
     ]
    }
   ],
   "source": [
    "for i in range(1,4):\n",
    "    for k in range(1,4):\n",
    "        print(i ,k ,end='')\n",
    "    print()"
   ]
  },
  {
   "cell_type": "code",
   "execution_count": 19,
   "id": "8d31849f-6d1c-4cb1-92f0-cabc44f43dc6",
   "metadata": {},
   "outputs": [
    {
     "name": "stdin",
     "output_type": "stream",
     "text": [
      "enter a number: 23\n"
     ]
    },
    {
     "name": "stdout",
     "output_type": "stream",
     "text": [
      "not\n"
     ]
    }
   ],
   "source": [
    "#disarium number:>\n",
    "num=int(input('enter a number:'))\n",
    "sum=0\n",
    "count=0\n",
    "temp=num\n",
    "x=temp\n",
    "while num>0:\n",
    "    num=num//10\n",
    "    count+=1\n",
    "while temp>0:\n",
    "    rem=temp%10\n",
    "    sum=sum+rem**count\n",
    "    temp=temp//10\n",
    "    count-=1\n",
    "if sum==x:\n",
    "        print('disarium number')\n",
    "else:\n",
    "        print('not')\n",
    "        "
   ]
  },
  {
   "cell_type": "code",
   "execution_count": 60,
   "id": "3a1b636a-d9ff-4d92-91a9-5cb1884ab5ce",
   "metadata": {},
   "outputs": [
    {
     "name": "stdin",
     "output_type": "stream",
     "text": [
      "enter a number: 4\n"
     ]
    },
    {
     "name": "stdout",
     "output_type": "stream",
     "text": [
      "1 1 1 1 \n",
      "2 2 2 2 \n",
      "3 3 3 3 \n",
      "4 4 4 4 \n"
     ]
    }
   ],
   "source": [
    "row=int(input('enter a number:'))\n",
    "for i in range(1,row+1):\n",
    "    for j in range(1,5):\n",
    "        print(i,end=\" \")\n",
    "    print()   \n",
    "       \n"
   ]
  },
  {
   "cell_type": "code",
   "execution_count": 62,
   "id": "e7251ccb-8e9a-46f6-a773-197f995478a6",
   "metadata": {},
   "outputs": [
    {
     "name": "stdin",
     "output_type": "stream",
     "text": [
      "enter a number: 6\n"
     ]
    },
    {
     "name": "stdout",
     "output_type": "stream",
     "text": [
      "1 2 3 4 \n",
      "1 2 3 4 \n",
      "1 2 3 4 \n",
      "1 2 3 4 \n",
      "1 2 3 4 \n",
      "1 2 3 4 \n"
     ]
    }
   ],
   "source": [
    "row=int(input('enter a number:'))\n",
    "for i in range(1,row+1):\n",
    "    for j in range(1,5):\n",
    "        print(j,end=\" \")\n",
    "    print() "
   ]
  },
  {
   "cell_type": "code",
   "execution_count": 197,
   "id": "1e9983ff-060a-47d1-8368-1b0e52372820",
   "metadata": {},
   "outputs": [
    {
     "name": "stdin",
     "output_type": "stream",
     "text": [
      "enter a number: 6\n"
     ]
    },
    {
     "name": "stdout",
     "output_type": "stream",
     "text": [
      "1 \n",
      "1 1 \n",
      "1 1 1 \n",
      "1 1 1 1 \n",
      "1 1 1 1 1 \n",
      "1 1 1 1 1 1 \n"
     ]
    }
   ],
   "source": [
    "n=1\n",
    "row=int(input('enter a number:'))\n",
    "for i in range(1,row+1):\n",
    "    for j in range(i):\n",
    "        print(n,end=' ')\n",
    "    print()\n",
    "    \n",
    "    "
   ]
  },
  {
   "cell_type": "code",
   "execution_count": 46,
   "id": "dfb4d364-1dfa-4e4e-b813-17f6c732e474",
   "metadata": {},
   "outputs": [
    {
     "name": "stdout",
     "output_type": "stream",
     "text": [
      "****\n",
      "****\n",
      "****\n",
      "****\n",
      " \n"
     ]
    }
   ],
   "source": [
    "for i in range(1,5):\n",
    "    for j in range(1,5):\n",
    "        print('*' ,end='')\n",
    "        \n",
    "    print()\n",
    "print(\" \")"
   ]
  },
  {
   "cell_type": "code",
   "execution_count": 13,
   "id": "eceec898-9298-45b0-8fd6-6015c493b575",
   "metadata": {},
   "outputs": [
    {
     "name": "stdout",
     "output_type": "stream",
     "text": [
      "*****\n",
      "*   *\n",
      "*   *\n",
      "*   *\n",
      "*****\n"
     ]
    }
   ],
   "source": [
    "for i in range(1,6):\n",
    "    for j in range(1,6):\n",
    "       if(j==1 or j==5 or i==1 or i==5):\n",
    "           print(\"*\",end='')\n",
    "       # elif(i==2 or i==4 or i==6):\n",
    "            # print(' ',end='')\n",
    "       else:\n",
    "           print(' ',end='')\n",
    "    print()    "
   ]
  },
  {
   "cell_type": "code",
   "execution_count": 129,
   "id": "342fa22d-c945-496a-b45a-fe6d44cda975",
   "metadata": {},
   "outputs": [
    {
     "name": "stdin",
     "output_type": "stream",
     "text": [
      "enter the number :  56\n"
     ]
    },
    {
     "name": "stdout",
     "output_type": "stream",
     "text": [
      "1\n",
      "2\n",
      "3\n",
      "4\n",
      "5\n",
      "6\n",
      "7\n",
      "8\n",
      "9\n",
      "10\n",
      "11\n",
      "12\n",
      "13\n",
      "14\n",
      "15\n",
      "16\n",
      "17\n",
      "18\n",
      "19\n",
      "20\n",
      "21\n",
      "22\n",
      "23\n",
      "24\n",
      "25\n",
      "26\n",
      "27\n",
      "28\n",
      "29\n",
      "30\n",
      "31\n",
      "32\n",
      "33\n",
      "34\n",
      "35\n",
      "36\n",
      "37\n",
      "38\n",
      "39\n",
      "40\n",
      "41\n",
      "42\n",
      "43\n",
      "44\n",
      "45\n",
      "46\n",
      "47\n",
      "48\n",
      "49\n",
      "50\n",
      "51\n",
      "52\n",
      "53\n",
      "54\n",
      "55\n",
      "56\n"
     ]
    }
   ],
   "source": [
    "n=int(input(\"enter the number : \"))\n",
    "i=1\n",
    "while(i<=n):\n",
    "    print(i)\n",
    "    i=i+1"
   ]
  },
  {
   "cell_type": "code",
   "execution_count": 131,
   "id": "eea1671d-506e-4b66-95d5-2c92d23aaf25",
   "metadata": {},
   "outputs": [
    {
     "name": "stdout",
     "output_type": "stream",
     "text": [
      "*\n",
      "*\n",
      "*\n",
      "*\n"
     ]
    }
   ],
   "source": []
  },
  {
   "cell_type": "code",
   "execution_count": 1,
   "id": "e5bfba15-add2-4755-a384-13c7e6a8e19b",
   "metadata": {},
   "outputs": [
    {
     "name": "stdout",
     "output_type": "stream",
     "text": [
      "4444\n",
      "333\n",
      "22\n",
      "1\n"
     ]
    }
   ],
   "source": [
    "for i in range(4,0,-1):\n",
    "    for j in range(i):\n",
    "        print(i,end='')\n",
    "    print()   \n"
   ]
  },
  {
   "cell_type": "code",
   "execution_count": 3,
   "id": "eb16d23f-6267-425c-ba53-9dd2de1f2054",
   "metadata": {},
   "outputs": [
    {
     "name": "stdout",
     "output_type": "stream",
     "text": [
      "457 98\n"
     ]
    }
   ],
   "source": [
    "list1=[3,457,98,76,56]\n",
    "max=0\n",
    "second_max=0\n",
    "for i in list1:\n",
    "    if i>max:\n",
    "        second_max=max\n",
    "        max=i\n",
    "    elif i>second_max and i!=max:\n",
    "        second_max=i\n",
    "print(max,second_max)"
   ]
  },
  {
   "cell_type": "code",
   "execution_count": 15,
   "id": "87d2334f-1a7f-494d-8ef0-845414c89266",
   "metadata": {},
   "outputs": [
    {
     "data": {
      "text/plain": [
       "[[1], [1, 1], [1, 2, 1], [1, 3, 3, 1], [1, 4, 6, 4, 1]]"
      ]
     },
     "execution_count": 15,
     "metadata": {},
     "output_type": "execute_result"
    }
   ],
   "source": [
    "li=[[1]]\n",
    "n=5\n",
    "for i in range(1,n):\n",
    "    temp=[0]+li[-1]+[0]\n",
    "# print(temp)\n",
    "    #[0, 1, 0] ans..\n",
    "    \n",
    "    list1=[]\n",
    "    for j in range(len(li)+1):\n",
    "        list1.append(temp[j]+temp[j+1])\n",
    "    li.append(list1)\n",
    "li"
   ]
  },
  {
   "cell_type": "code",
   "execution_count": 10,
   "id": "c80bb47e-151b-4a80-ae2d-db8bf5ca3d9d",
   "metadata": {},
   "outputs": [
    {
     "data": {
      "text/plain": [
       "[[1], [1, 1], [1, 2, 1], [1, 3, 3, 1], [1, 4, 6, 4, 1]]"
      ]
     },
     "execution_count": 10,
     "metadata": {},
     "output_type": "execute_result"
    }
   ],
   "source": [
    "li=[[1]]\n",
    "n=5\n",
    "for i in range(1,n):\n",
    "    temp=[0]+li[-1]+[0]\n",
    "# print(temp)\n",
    "    #[0, 1, 0] ans..\n",
    "    \n",
    "    list1=[]\n",
    "    for j in range(len(li)+1):\n",
    "        list1.append(temp[j]+temp[j+1])\n",
    "    li.append(list1)\n",
    "li   \n",
    "        \n",
    "        "
   ]
  },
  {
   "cell_type": "code",
   "execution_count": 19,
   "id": "8c6d1bee-32a5-4965-bf38-9f91b74a59e3",
   "metadata": {},
   "outputs": [
    {
     "name": "stdout",
     "output_type": "stream",
     "text": [
      "1 4 6 4 1  1 3 3 1   1 2 1    1 1     1 "
     ]
    }
   ],
   "source": [
    "#invert pascal traingle\n",
    "n = 5  # Number of rows (You can change this value)\n",
    "\n",
    "for i in range(n, 0, -1):\n",
    "    for s in range(5,i,-1):\n",
    "        print(\" \",end=\"\")\n",
    "    for j in range(i):\n",
    "        # Calculate binomial coefficient\n",
    "        coeff = 1\n",
    "        for k in range(1, j + 1):\n",
    "            coeff = coeff * (i - k) // k\n",
    "        print(coeff, end=\" \")\n"
   ]
  },
  {
   "cell_type": "code",
   "execution_count": null,
   "id": "77f0b68c-704d-4136-8bdb-aa1063881355",
   "metadata": {},
   "outputs": [],
   "source": []
  },
  {
   "cell_type": "code",
   "execution_count": null,
   "id": "adfa129c-87c0-4f08-bbdd-8d96eee28a2e",
   "metadata": {},
   "outputs": [],
   "source": []
  },
  {
   "cell_type": "code",
   "execution_count": 17,
   "id": "b82f4eda-5c3d-4332-8f92-d499293eeb9b",
   "metadata": {},
   "outputs": [
    {
     "name": "stdout",
     "output_type": "stream",
     "text": [
      "string valid\n"
     ]
    }
   ],
   "source": [
    "string='([])'\n",
    "list=[]\n",
    "x=0\n",
    "for i in string:\n",
    "    if i in \"({[\":\n",
    "        list.append(i)\n",
    "    else:\n",
    "        if len(list)==0:\n",
    "            x+=1\n",
    "            break\n",
    "        if i==')' and list.pop()!='(':\n",
    "            break\n",
    "        elif i==']' and list.pop()!='[':\n",
    "            break\n",
    "        elif i=='}' and list.pop()!='{':\n",
    "            break\n",
    "\n",
    "if (x==1):\n",
    "    print('Invalid')\n",
    "elif(len(list))==0:\n",
    "    print('string valid')\n",
    "else:\n",
    "    print('invalid')"
   ]
  },
  {
   "cell_type": "code",
   "execution_count": 53,
   "id": "3b3dc9f9-700b-4f30-9c23-77f8b8f578f3",
   "metadata": {},
   "outputs": [
    {
     "name": "stdout",
     "output_type": "stream",
     "text": [
      " \n",
      "12345\n",
      " \n",
      "12345\n",
      " \n",
      "12345\n",
      " \n",
      "12345\n",
      " \n",
      "12345\n"
     ]
    }
   ],
   "source": [
    "for i in range(1,6):\n",
    "    for s in range(1):\n",
    "             print(' ')\n",
    "        \n",
    "    \n",
    "    for j in range(1,6):\n",
    "        print(j,end='')\n",
    "    print()    "
   ]
  },
  {
   "cell_type": "code",
   "execution_count": null,
   "id": "b143337b-3d57-4c87-8594-32a390f5618c",
   "metadata": {},
   "outputs": [],
   "source": []
  },
  {
   "cell_type": "code",
   "execution_count": null,
   "id": "417d7e4f-88c2-408e-81fc-da8dbb775532",
   "metadata": {},
   "outputs": [],
   "source": [
    "num=11\n",
    "sum=0\n",
    "while 1<num:\n",
    "    if num%2!=0:\n",
    "        sum+=num\n",
    "print(sum)\n",
    "        num+=1"
   ]
  },
  {
   "cell_type": "code",
   "execution_count": null,
   "id": "bdbe02d7-dee4-4824-b334-ef759b8bd70b",
   "metadata": {},
   "outputs": [],
   "source": []
  }
 ],
 "metadata": {
  "kernelspec": {
   "display_name": "Python 3 (ipykernel)",
   "language": "python",
   "name": "python3"
  },
  "language_info": {
   "codemirror_mode": {
    "name": "ipython",
    "version": 3
   },
   "file_extension": ".py",
   "mimetype": "text/x-python",
   "name": "python",
   "nbconvert_exporter": "python",
   "pygments_lexer": "ipython3",
   "version": "3.12.4"
  }
 },
 "nbformat": 4,
 "nbformat_minor": 5
}
